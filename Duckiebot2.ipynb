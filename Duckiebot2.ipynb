{
 "cells": [
  {
   "cell_type": "code",
   "execution_count": 1,
   "metadata": {
    "colab": {},
    "colab_type": "code",
    "id": "onsqaqfI9_Aw"
   },
   "outputs": [
    {
     "name": "stderr",
     "output_type": "stream",
     "text": [
      "/home/jjpro/jjprojects/p3tf/lib/python3.6/site-packages/tensorflow/python/framework/dtypes.py:526: FutureWarning: Passing (type, 1) or '1type' as a synonym of type is deprecated; in a future version of numpy, it will be understood as (type, (1,)) / '(1,)type'.\n",
      "  _np_qint8 = np.dtype([(\"qint8\", np.int8, 1)])\n",
      "/home/jjpro/jjprojects/p3tf/lib/python3.6/site-packages/tensorflow/python/framework/dtypes.py:527: FutureWarning: Passing (type, 1) or '1type' as a synonym of type is deprecated; in a future version of numpy, it will be understood as (type, (1,)) / '(1,)type'.\n",
      "  _np_quint8 = np.dtype([(\"quint8\", np.uint8, 1)])\n",
      "/home/jjpro/jjprojects/p3tf/lib/python3.6/site-packages/tensorflow/python/framework/dtypes.py:528: FutureWarning: Passing (type, 1) or '1type' as a synonym of type is deprecated; in a future version of numpy, it will be understood as (type, (1,)) / '(1,)type'.\n",
      "  _np_qint16 = np.dtype([(\"qint16\", np.int16, 1)])\n",
      "/home/jjpro/jjprojects/p3tf/lib/python3.6/site-packages/tensorflow/python/framework/dtypes.py:529: FutureWarning: Passing (type, 1) or '1type' as a synonym of type is deprecated; in a future version of numpy, it will be understood as (type, (1,)) / '(1,)type'.\n",
      "  _np_quint16 = np.dtype([(\"quint16\", np.uint16, 1)])\n",
      "/home/jjpro/jjprojects/p3tf/lib/python3.6/site-packages/tensorflow/python/framework/dtypes.py:530: FutureWarning: Passing (type, 1) or '1type' as a synonym of type is deprecated; in a future version of numpy, it will be understood as (type, (1,)) / '(1,)type'.\n",
      "  _np_qint32 = np.dtype([(\"qint32\", np.int32, 1)])\n",
      "/home/jjpro/jjprojects/p3tf/lib/python3.6/site-packages/tensorflow/python/framework/dtypes.py:535: FutureWarning: Passing (type, 1) or '1type' as a synonym of type is deprecated; in a future version of numpy, it will be understood as (type, (1,)) / '(1,)type'.\n",
      "  np_resource = np.dtype([(\"resource\", np.ubyte, 1)])\n"
     ]
    }
   ],
   "source": [
    "import tensorflow as tf\n",
    "import os\n",
    "import cv2\n",
    "import numpy as np\n",
    "import matplotlib.pyplot as plt\n",
    "from sklearn.utils import shuffle\n",
    "import time\n",
    "import glob\n",
    "from PIL import Image"
   ]
  },
  {
   "cell_type": "code",
   "execution_count": 2,
   "metadata": {
    "colab": {},
    "colab_type": "code",
    "id": "IfAQNlEE-FUC"
   },
   "outputs": [],
   "source": [
    "folder_path = './'\n",
    "subfolder_path = 'duck_pics/'\n",
    "save_folder = 'duck_model/'\n",
    "\n",
    "img_size = 101\n",
    "l2_alpha = 1e-2\n",
    "l2_regularizer = False\n",
    "save_mode = True\n",
    "\n",
    "num_epochs = 100\n",
    "batch_size = 64\n",
    "lr = 0.00005\n",
    "\n",
    "L2_LAMBDA = 0.01\n"
   ]
  },
  {
   "cell_type": "code",
   "execution_count": 3,
   "metadata": {},
   "outputs": [],
   "source": [
    "train_image, train_label, test_image, test_label = [], [], [], []\n",
    "#train_image, train_label = [], []\n",
    "i = 0\n",
    "for image_name in os.listdir(folder_path + subfolder_path):\n",
    "    if i % 9 == 0:\n",
    "        img = cv2.imread(os.path.join(folder_path, subfolder_path, image_name))\n",
    "        test_image.append(cv2.resize(img, (img_size, img_size), interpolation=cv2.INTER_CUBIC))\n",
    "        test_label.append(\"1\")\n",
    "    else:\n",
    "        img = cv2.imread(os.path.join(folder_path, subfolder_path, image_name))\n",
    "        train_image.append(cv2.resize(img, (img_size, img_size), interpolation=cv2.INTER_CUBIC))\n",
    "        train_label.append(\"1\")\n",
    "    i += 1\n",
    "\n",
    "for image_name in os.listdir(\"./no_obs_outer\"):\n",
    "    if \"jpg\" not in image_name:\n",
    "        continue\n",
    "    if i % 9 == 0:\n",
    "        img = cv2.imread(os.path.join(\"./no_obs_outer\", image_name))\n",
    "        test_image.append(cv2.resize(img, (img_size, img_size), interpolation=cv2.INTER_CUBIC))\n",
    "        test_label.append(\"0\")\n",
    "    else:\n",
    "        img = cv2.imread(os.path.join(\"./no_obs_outer\", image_name))\n",
    "        train_image.append(cv2.resize(img, (img_size, img_size), interpolation=cv2.INTER_CUBIC))\n",
    "        train_label.append(\"0\")\n",
    "    i += 1\n"
   ]
  },
  {
   "cell_type": "code",
   "execution_count": 4,
   "metadata": {
    "colab": {},
    "colab_type": "code",
    "id": "HZryPY2TaPVL"
   },
   "outputs": [],
   "source": [
    "# train_image, train_label, test_image, test_label = [], [], [], []\n",
    "\n",
    "# with open(folder_path + subfolder_path + 'train.txt', 'r') as f:\n",
    "#     temp = [l.split(' ') for l in f.read().splitlines()]\n",
    "# f.close()\n",
    "\n",
    "# for l in temp:\n",
    "#     img = cv2.imread(folder_path + l[0])\n",
    "#     train_image.append(cv2.resize(img, (img_size, img_size), interpolation=cv2.INTER_CUBIC))\n",
    "#     train_label.append(l[1])    \n",
    "    \n",
    "# with open(folder_path + subfolder_path + 'test.txt', 'r') as f:\n",
    "#     temp = [l.split(' ') for l in f.read().splitlines()]\n",
    "# f.close()\n",
    "\n",
    "# for l in temp:\n",
    "#     img = cv2.imread(folder_path + l[0])\n",
    "#     test_image.append(cv2.resize(img, (img_size, img_size), interpolation=cv2.INTER_CUBIC))\n",
    "#     test_label.append(l[1])\n",
    "\n",
    "train_label = np.array(train_label).astype(np.int)\n",
    "test_label = np.array(test_label).astype(np.int)\n",
    "\n",
    "picture_train = (np.array(train_image).astype(np.float32) - 127.5) / 127.5\n",
    "picture_test = (np.array(test_image).astype(np.float32) - 127.5) / 127.5\n",
    "\n",
    "train_label_one_hot = np.zeros((len(train_label), 2)).astype(np.int32)\n",
    "test_label_one_hot = np.zeros((len(test_label), 2)).astype(np.int32)\n",
    "for i in range(len(train_label)):\n",
    "    train_label_one_hot[i, train_label[i]] = 1\n",
    "for i in range(len(test_label)):\n",
    "    test_label_one_hot[i, test_label[i]] = 1"
   ]
  },
  {
   "cell_type": "code",
   "execution_count": 5,
   "metadata": {},
   "outputs": [
    {
     "data": {
      "image/png": "[encoded data removed]",
      "text/plain": [
       "<Figure size 432x288 with 1 Axes>"
      ]
     },
     "metadata": {
      "needs_background": "light"
     },
     "output_type": "display_data"
    }
   ],
   "source": [
    "plt.hist(train_label, bins=2)\n",
    "plt.show()"
   ]
  },
  {
   "cell_type": "code",
   "execution_count": 6,
   "metadata": {},
   "outputs": [],
   "source": [
    "# #img = tf.Variable(train_image[:2]) # img shape is [580,580,3]\n",
    "# img = tf.placeholder(dtype=tf.float32,shape=[None, img_size, img_size, 3], name='input')\n",
    "# #b = tf.image.crop_and_resize(img,[[0.5,0.1,0.9,0.5]],[0],[50,50])\n",
    "# c = tf.image.crop_to_bounding_box(\n",
    "#     image = img,\n",
    "#     offset_height = 40,\n",
    "#     offset_width = 0,\n",
    "#     target_height = 61,\n",
    "#     target_width = 101\n",
    "# )\n",
    "# sess = tf.Session()\n",
    "# sess.run(tf.global_variables_initializer())\n",
    "# #a = c.eval(session=sess)\n",
    "# a = sess.run(c, feed_dict={img: train_image})\n",
    "# plt.imshow(a[1].astype(int))\n",
    "# #plt.imshow(a[1])\n",
    "# print(a.shape)"
   ]
  },
  {
   "cell_type": "code",
   "execution_count": 7,
   "metadata": {},
   "outputs": [],
   "source": [
    "tf.reset_default_graph()\n",
    "pic_placehold = tf.placeholder(dtype=tf.float32,shape=[None, img_size, img_size, 3], name='input')\n",
    "out_placehold = tf.placeholder(tf.int32, [None, 2])\n",
    "\n",
    "def arch1():\n",
    "    x = tf.layers.conv2d(x, 64, 3, strides=3, padding='valid')\n",
    "    x = tf.nn.relu(x)\n",
    "    x = tf.nn.max_pool(x, ksize=[1, 4, 4, 1], strides=[1, 4, 4, 1], padding='VALID')\n",
    "    # x = tf.layers.batch_normalization(x)\n",
    "    x = tf.reshape(x, [-1, int(x.shape[1]) * int(x.shape[2]) * int(x.shape[3])])\n",
    "    x = tf.layers.dense(x, units = 32, trainable=True, use_bias=True)\n",
    "    x = tf.nn.relu(x)\n",
    "    x = tf.layers.dense(x, units = 15, trainable=True, use_bias=True)\n",
    "    pred = x\n",
    "    output1 = tf.nn.softmax(x, name='output')\n",
    "    output = tf.math.argmax(output1, axis=1)\n",
    "    return pred, output\n",
    "def arch2(): \n",
    "    x = tf.layers.conv2d(x, 64, 3, strides=3, padding='valid')\n",
    "    x = tf.nn.relu(x)\n",
    "    x = tf.nn.max_pool(x, ksize=[1, 4, 4, 1], strides=[1, 4, 4, 1], padding='VALID')\n",
    "    # x = tf.layers.batch_normalization(x)\n",
    "    x = tf.reshape(x, [-1, int(x.shape[1]) * int(x.shape[2]) * int(x.shape[3])])\n",
    "    x = tf.layers.dense(x, units = 32, trainable=True, use_bias=True)\n",
    "    x = tf.nn.relu(x)\n",
    "    x = tf.layers.dense(x, units = 15, trainable=True, use_bias=True)\n",
    "    pred = x\n",
    "    output1 = tf.nn.softmax(x, name='output')\n",
    "    output = tf.math.argmax(output1, axis=1)\n",
    "    return pred, output"
   ]
  },
  {
   "cell_type": "code",
   "execution_count": 8,
   "metadata": {
    "colab": {},
    "colab_type": "code",
    "id": "CUCgf8NQEctf"
   },
   "outputs": [
    {
     "name": "stdout",
     "output_type": "stream",
     "text": [
      "WARNING:tensorflow:From <ipython-input-8-8ccb5b2571c6>:3: conv2d (from tensorflow.python.layers.convolutional) is deprecated and will be removed in a future version.\n",
      "Instructions for updating:\n",
      "Use keras.layers.conv2d instead.\n",
      "WARNING:tensorflow:From /home/jjpro/jjprojects/p3tf/lib/python3.6/site-packages/tensorflow/python/framework/op_def_library.py:263: colocate_with (from tensorflow.python.framework.ops) is deprecated and will be removed in a future version.\n",
      "Instructions for updating:\n",
      "Colocations handled automatically by placer.\n",
      "WARNING:tensorflow:From <ipython-input-8-8ccb5b2571c6>:7: dense (from tensorflow.python.layers.core) is deprecated and will be removed in a future version.\n",
      "Instructions for updating:\n",
      "Use keras.layers.dense instead.\n"
     ]
    }
   ],
   "source": [
    "x = pic_placehold\n",
    "\n",
    "x = tf.layers.conv2d(x, 16, 3, strides=3, padding='valid')\n",
    "x = tf.nn.relu(x)\n",
    "x = tf.nn.max_pool(x, ksize=[1, 3, 3, 1], strides=[1, 3, 3, 1], padding='VALID')\n",
    "x = tf.reshape(x, [-1, int(x.shape[1]) * int(x.shape[2]) * int(x.shape[3])])\n",
    "x = tf.layers.dense(x, units = 2, trainable=True, use_bias=True)\n",
    "pred = x\n",
    "output = tf.math.argmax(tf.nn.softmax(x, name='tmp_output'), axis=1)\n",
    "\n",
    "# pred, output = tf.cond(decision>0, arch1, arch2)\n",
    "\n"
   ]
  },
  {
   "cell_type": "code",
   "execution_count": 9,
   "metadata": {},
   "outputs": [
    {
     "name": "stdout",
     "output_type": "stream",
     "text": [
      "[0 1]\n",
      "[220 243]\n"
     ]
    }
   ],
   "source": [
    "values, counts = np.unique(train_label, return_counts = True)\n",
    "\n",
    "# values = np.insert(values, 1, 1)\n",
    "# counts = np.insert(counts, 1, 0)\n",
    "\n",
    "print(values)\n",
    "print(counts)"
   ]
  },
  {
   "cell_type": "code",
   "execution_count": 10,
   "metadata": {
    "colab": {},
    "colab_type": "code",
    "id": "lhobCLHwiPl6"
   },
   "outputs": [
    {
     "name": "stdout",
     "output_type": "stream",
     "text": [
      "(1, ?)\n",
      "WARNING:tensorflow:From <ipython-input-10-a008138b2584>:9: softmax_cross_entropy_with_logits (from tensorflow.python.ops.nn_ops) is deprecated and will be removed in a future version.\n",
      "Instructions for updating:\n",
      "\n",
      "Future major versions of TensorFlow will allow gradients to flow\n",
      "into the labels input on backprop by default.\n",
      "\n",
      "See `tf.nn.softmax_cross_entropy_with_logits_v2`.\n",
      "\n"
     ]
    }
   ],
   "source": [
    "#cross_entropy = tf.nn.softmax_cross_entropy_with_logits(logits=pred, labels=out_placehold)\n",
    "ratio = counts*(1/np.sum(counts))\n",
    "\n",
    "class_weight = ratio\n",
    "\n",
    "weight_per_label = tf.transpose(tf.matmul(tf.dtypes.cast(out_placehold, tf.float32), tf.expand_dims(tf.dtypes.cast(tf.transpose(class_weight), tf.float32), 1)))\n",
    "print(weight_per_label.shape)\n",
    "\n",
    "xent = tf.multiply(weight_per_label, tf.nn.softmax_cross_entropy_with_logits(logits=pred, labels=out_placehold)) \n",
    "cross_entropy = tf.reduce_mean(xent) #shape 1\n",
    "\n",
    "#cross_entropy = tf.nn.softmax_cross_entropy_with_logits(logits=pred, labels=out_placehold)\n",
    "# cross_entropy = tf.contrib.losses.softmax_cross_entropy(logits=pred, out_placehold, weight=weight)\n",
    "var = tf.trainable_variables()\n",
    "if l2_regularizer:\n",
    "     lossL2 = tf.add_n([tf.nn.l2_loss(v) for v in var if 'kernel' in v.name]) * l2_alpha\n",
    "     cost = lossL2 + tf.reduce_mean(cross_entropy)\n",
    "cost = tf.reduce_mean(cross_entropy)\n",
    "prediction = tf.argmax(pred, 1)\n",
    "cost = tf.reduce_mean(tf.nn.softmax_cross_entropy_with_logits(logits=pred, labels=out_placehold))\n",
    "optimizer = tf.train.AdamOptimizer(learning_rate=lr).minimize(cost)\n",
    "correct_prediction = tf.equal(tf.argmax(pred, 1), tf.argmax(out_placehold, 1))\n",
    "accuracy = tf.reduce_mean(tf.cast(correct_prediction, tf.float32))"
   ]
  },
  {
   "cell_type": "code",
   "execution_count": 11,
   "metadata": {
    "colab": {
     "base_uri": "https://localhost:8080/",
     "height": 1000
    },
    "colab_type": "code",
    "id": "yPE7ftaT9xnH",
    "outputId": "0a399189-5043-4f29-b686-bc0bcf69aeae"
   },
   "outputs": [
    {
     "name": "stdout",
     "output_type": "stream",
     "text": [
      "Iter 00 --- Loss = 0.668 --- Acc = 57.8125 --- Val Loss = 0.648 --- Val Acc = 60.3448\n",
      "Iter 01 --- Loss = 0.630 --- Acc = 62.5000 --- Val Loss = 0.606 --- Val Acc = 70.6897\n",
      "Iter 02 --- Loss = 0.612 --- Acc = 70.3125 --- Val Loss = 0.566 --- Val Acc = 82.7586\n",
      "Iter 03 --- Loss = 0.541 --- Acc = 87.5000 --- Val Loss = 0.529 --- Val Acc = 87.9310\n",
      "Iter 04 --- Loss = 0.526 --- Acc = 87.5000 --- Val Loss = 0.495 --- Val Acc = 93.1035\n",
      "Iter 05 --- Loss = 0.481 --- Acc = 93.7500 --- Val Loss = 0.463 --- Val Acc = 93.1035\n",
      "Iter 06 --- Loss = 0.449 --- Acc = 93.7500 --- Val Loss = 0.433 --- Val Acc = 96.5517\n",
      "Iter 07 --- Loss = 0.426 --- Acc = 93.7500 --- Val Loss = 0.405 --- Val Acc = 96.5517\n",
      "Iter 08 --- Loss = 0.427 --- Acc = 96.8750 --- Val Loss = 0.380 --- Val Acc = 96.5517\n",
      "Iter 09 --- Loss = 0.353 --- Acc = 96.8750 --- Val Loss = 0.356 --- Val Acc = 98.2759\n",
      "Iter 10 --- Loss = 0.364 --- Acc = 100.0000 --- Val Loss = 0.334 --- Val Acc = 98.2759\n",
      "Iter 11 --- Loss = 0.301 --- Acc = 98.4375 --- Val Loss = 0.314 --- Val Acc = 98.2759\n",
      "Iter 12 --- Loss = 0.317 --- Acc = 100.0000 --- Val Loss = 0.295 --- Val Acc = 98.2759\n",
      "Iter 13 --- Loss = 0.274 --- Acc = 100.0000 --- Val Loss = 0.278 --- Val Acc = 98.2759\n",
      "Iter 14 --- Loss = 0.261 --- Acc = 100.0000 --- Val Loss = 0.261 --- Val Acc = 100.0000\n",
      "Iter 15 --- Loss = 0.238 --- Acc = 100.0000 --- Val Loss = 0.246 --- Val Acc = 100.0000\n",
      "Iter 16 --- Loss = 0.241 --- Acc = 100.0000 --- Val Loss = 0.232 --- Val Acc = 100.0000\n",
      "Iter 17 --- Loss = 0.181 --- Acc = 100.0000 --- Val Loss = 0.219 --- Val Acc = 100.0000\n",
      "Iter 18 --- Loss = 0.209 --- Acc = 100.0000 --- Val Loss = 0.207 --- Val Acc = 100.0000\n",
      "Iter 19 --- Loss = 0.166 --- Acc = 100.0000 --- Val Loss = 0.195 --- Val Acc = 100.0000\n",
      "Iter 20 --- Loss = 0.219 --- Acc = 100.0000 --- Val Loss = 0.185 --- Val Acc = 100.0000\n",
      "Iter 21 --- Loss = 0.160 --- Acc = 100.0000 --- Val Loss = 0.175 --- Val Acc = 100.0000\n",
      "Iter 22 --- Loss = 0.167 --- Acc = 100.0000 --- Val Loss = 0.166 --- Val Acc = 100.0000\n",
      "Iter 23 --- Loss = 0.154 --- Acc = 100.0000 --- Val Loss = 0.157 --- Val Acc = 100.0000\n",
      "Iter 24 --- Loss = 0.158 --- Acc = 100.0000 --- Val Loss = 0.149 --- Val Acc = 100.0000\n",
      "Iter 25 --- Loss = 0.149 --- Acc = 100.0000 --- Val Loss = 0.142 --- Val Acc = 100.0000\n",
      "Iter 26 --- Loss = 0.131 --- Acc = 100.0000 --- Val Loss = 0.135 --- Val Acc = 100.0000\n",
      "Iter 27 --- Loss = 0.121 --- Acc = 100.0000 --- Val Loss = 0.128 --- Val Acc = 100.0000\n",
      "Iter 28 --- Loss = 0.125 --- Acc = 100.0000 --- Val Loss = 0.122 --- Val Acc = 100.0000\n",
      "Iter 29 --- Loss = 0.118 --- Acc = 100.0000 --- Val Loss = 0.117 --- Val Acc = 100.0000\n",
      "Iter 30 --- Loss = 0.118 --- Acc = 100.0000 --- Val Loss = 0.111 --- Val Acc = 100.0000\n",
      "Iter 31 --- Loss = 0.100 --- Acc = 100.0000 --- Val Loss = 0.106 --- Val Acc = 100.0000\n",
      "Iter 32 --- Loss = 0.111 --- Acc = 100.0000 --- Val Loss = 0.101 --- Val Acc = 100.0000\n",
      "Iter 33 --- Loss = 0.099 --- Acc = 100.0000 --- Val Loss = 0.097 --- Val Acc = 100.0000\n",
      "Iter 34 --- Loss = 0.096 --- Acc = 100.0000 --- Val Loss = 0.092 --- Val Acc = 100.0000\n",
      "Iter 35 --- Loss = 0.091 --- Acc = 100.0000 --- Val Loss = 0.088 --- Val Acc = 100.0000\n",
      "Iter 36 --- Loss = 0.094 --- Acc = 100.0000 --- Val Loss = 0.085 --- Val Acc = 100.0000\n",
      "Iter 37 --- Loss = 0.079 --- Acc = 100.0000 --- Val Loss = 0.081 --- Val Acc = 100.0000\n",
      "Iter 38 --- Loss = 0.090 --- Acc = 100.0000 --- Val Loss = 0.078 --- Val Acc = 100.0000\n",
      "Iter 39 --- Loss = 0.061 --- Acc = 100.0000 --- Val Loss = 0.075 --- Val Acc = 100.0000\n",
      "Iter 40 --- Loss = 0.079 --- Acc = 100.0000 --- Val Loss = 0.072 --- Val Acc = 100.0000\n",
      "Iter 41 --- Loss = 0.069 --- Acc = 100.0000 --- Val Loss = 0.069 --- Val Acc = 100.0000\n",
      "Iter 42 --- Loss = 0.062 --- Acc = 100.0000 --- Val Loss = 0.066 --- Val Acc = 100.0000\n",
      "Iter 43 --- Loss = 0.050 --- Acc = 100.0000 --- Val Loss = 0.064 --- Val Acc = 100.0000\n",
      "Iter 44 --- Loss = 0.050 --- Acc = 100.0000 --- Val Loss = 0.061 --- Val Acc = 100.0000\n",
      "Iter 45 --- Loss = 0.062 --- Acc = 100.0000 --- Val Loss = 0.059 --- Val Acc = 100.0000\n",
      "Iter 46 --- Loss = 0.064 --- Acc = 100.0000 --- Val Loss = 0.057 --- Val Acc = 100.0000\n",
      "Iter 47 --- Loss = 0.054 --- Acc = 100.0000 --- Val Loss = 0.055 --- Val Acc = 100.0000\n",
      "Iter 48 --- Loss = 0.043 --- Acc = 100.0000 --- Val Loss = 0.053 --- Val Acc = 100.0000\n",
      "Iter 49 --- Loss = 0.038 --- Acc = 100.0000 --- Val Loss = 0.051 --- Val Acc = 100.0000\n",
      "Iter 50 --- Loss = 0.046 --- Acc = 100.0000 --- Val Loss = 0.049 --- Val Acc = 100.0000\n",
      "Iter 51 --- Loss = 0.043 --- Acc = 100.0000 --- Val Loss = 0.047 --- Val Acc = 100.0000\n",
      "Iter 52 --- Loss = 0.056 --- Acc = 100.0000 --- Val Loss = 0.046 --- Val Acc = 100.0000\n",
      "Iter 53 --- Loss = 0.040 --- Acc = 100.0000 --- Val Loss = 0.044 --- Val Acc = 100.0000\n",
      "Iter 54 --- Loss = 0.036 --- Acc = 100.0000 --- Val Loss = 0.043 --- Val Acc = 100.0000\n",
      "Iter 55 --- Loss = 0.037 --- Acc = 100.0000 --- Val Loss = 0.041 --- Val Acc = 100.0000\n",
      "Iter 56 --- Loss = 0.054 --- Acc = 100.0000 --- Val Loss = 0.040 --- Val Acc = 100.0000\n",
      "Iter 57 --- Loss = 0.041 --- Acc = 100.0000 --- Val Loss = 0.039 --- Val Acc = 100.0000\n",
      "Iter 58 --- Loss = 0.036 --- Acc = 100.0000 --- Val Loss = 0.038 --- Val Acc = 100.0000\n",
      "Iter 59 --- Loss = 0.035 --- Acc = 100.0000 --- Val Loss = 0.036 --- Val Acc = 100.0000\n",
      "Iter 60 --- Loss = 0.027 --- Acc = 100.0000 --- Val Loss = 0.035 --- Val Acc = 100.0000\n",
      "Iter 61 --- Loss = 0.041 --- Acc = 100.0000 --- Val Loss = 0.034 --- Val Acc = 100.0000\n",
      "Iter 62 --- Loss = 0.024 --- Acc = 100.0000 --- Val Loss = 0.033 --- Val Acc = 100.0000\n",
      "Iter 63 --- Loss = 0.028 --- Acc = 100.0000 --- Val Loss = 0.032 --- Val Acc = 100.0000\n",
      "Iter 64 --- Loss = 0.029 --- Acc = 100.0000 --- Val Loss = 0.031 --- Val Acc = 100.0000\n",
      "Iter 65 --- Loss = 0.036 --- Acc = 100.0000 --- Val Loss = 0.030 --- Val Acc = 100.0000\n",
      "Iter 66 --- Loss = 0.028 --- Acc = 100.0000 --- Val Loss = 0.030 --- Val Acc = 100.0000\n",
      "Iter 67 --- Loss = 0.036 --- Acc = 100.0000 --- Val Loss = 0.029 --- Val Acc = 100.0000\n",
      "Iter 68 --- Loss = 0.031 --- Acc = 100.0000 --- Val Loss = 0.028 --- Val Acc = 100.0000\n",
      "Iter 69 --- Loss = 0.021 --- Acc = 100.0000 --- Val Loss = 0.027 --- Val Acc = 100.0000\n",
      "Iter 70 --- Loss = 0.025 --- Acc = 100.0000 --- Val Loss = 0.026 --- Val Acc = 100.0000\n",
      "Iter 71 --- Loss = 0.028 --- Acc = 100.0000 --- Val Loss = 0.026 --- Val Acc = 100.0000\n",
      "Iter 72 --- Loss = 0.034 --- Acc = 100.0000 --- Val Loss = 0.025 --- Val Acc = 100.0000\n",
      "Iter 73 --- Loss = 0.027 --- Acc = 100.0000 --- Val Loss = 0.024 --- Val Acc = 100.0000\n",
      "Iter 74 --- Loss = 0.028 --- Acc = 100.0000 --- Val Loss = 0.024 --- Val Acc = 100.0000\n",
      "Iter 75 --- Loss = 0.020 --- Acc = 100.0000 --- Val Loss = 0.023 --- Val Acc = 100.0000\n",
      "Iter 76 --- Loss = 0.026 --- Acc = 100.0000 --- Val Loss = 0.022 --- Val Acc = 100.0000\n",
      "Iter 77 --- Loss = 0.022 --- Acc = 100.0000 --- Val Loss = 0.022 --- Val Acc = 100.0000\n",
      "Iter 78 --- Loss = 0.026 --- Acc = 100.0000 --- Val Loss = 0.021 --- Val Acc = 100.0000\n",
      "Iter 79 --- Loss = 0.024 --- Acc = 100.0000 --- Val Loss = 0.021 --- Val Acc = 100.0000\n",
      "Iter 80 --- Loss = 0.019 --- Acc = 100.0000 --- Val Loss = 0.020 --- Val Acc = 100.0000\n",
      "Iter 81 --- Loss = 0.019 --- Acc = 100.0000 --- Val Loss = 0.020 --- Val Acc = 100.0000\n",
      "Iter 82 --- Loss = 0.015 --- Acc = 100.0000 --- Val Loss = 0.019 --- Val Acc = 100.0000\n",
      "Iter 83 --- Loss = 0.018 --- Acc = 100.0000 --- Val Loss = 0.019 --- Val Acc = 100.0000\n",
      "Iter 84 --- Loss = 0.021 --- Acc = 100.0000 --- Val Loss = 0.018 --- Val Acc = 100.0000\n",
      "Iter 85 --- Loss = 0.020 --- Acc = 100.0000 --- Val Loss = 0.018 --- Val Acc = 100.0000\n",
      "Iter 86 --- Loss = 0.020 --- Acc = 100.0000 --- Val Loss = 0.018 --- Val Acc = 100.0000\n",
      "Iter 87 --- Loss = 0.013 --- Acc = 100.0000 --- Val Loss = 0.017 --- Val Acc = 100.0000\n",
      "Iter 88 --- Loss = 0.019 --- Acc = 100.0000 --- Val Loss = 0.017 --- Val Acc = 100.0000\n",
      "Iter 89 --- Loss = 0.017 --- Acc = 100.0000 --- Val Loss = 0.016 --- Val Acc = 100.0000\n",
      "Iter 90 --- Loss = 0.013 --- Acc = 100.0000 --- Val Loss = 0.016 --- Val Acc = 100.0000\n",
      "Iter 91 --- Loss = 0.016 --- Acc = 100.0000 --- Val Loss = 0.016 --- Val Acc = 100.0000\n",
      "Iter 92 --- Loss = 0.019 --- Acc = 100.0000 --- Val Loss = 0.015 --- Val Acc = 100.0000\n",
      "Iter 93 --- Loss = 0.014 --- Acc = 100.0000 --- Val Loss = 0.015 --- Val Acc = 100.0000\n"
     ]
    },
    {
     "name": "stdout",
     "output_type": "stream",
     "text": [
      "Iter 94 --- Loss = 0.012 --- Acc = 100.0000 --- Val Loss = 0.015 --- Val Acc = 100.0000\n",
      "Iter 95 --- Loss = 0.017 --- Acc = 100.0000 --- Val Loss = 0.014 --- Val Acc = 100.0000\n",
      "Iter 96 --- Loss = 0.015 --- Acc = 100.0000 --- Val Loss = 0.014 --- Val Acc = 100.0000\n",
      "Iter 97 --- Loss = 0.012 --- Acc = 100.0000 --- Val Loss = 0.014 --- Val Acc = 100.0000\n",
      "Iter 98 --- Loss = 0.014 --- Acc = 100.0000 --- Val Loss = 0.014 --- Val Acc = 100.0000\n",
      "Iter 99 --- Loss = 0.013 --- Acc = 100.0000 --- Val Loss = 0.013 --- Val Acc = 100.0000\n"
     ]
    },
    {
     "ename": "PermissionDeniedError",
     "evalue": "/duck_model; Permission denied\n\t [[node save/SaveV2 (defined at <ipython-input-11-dc7dcb1f8185>:3) ]]\n\nCaused by op 'save/SaveV2', defined at:\n  File \"/usr/lib/python3.6/runpy.py\", line 193, in _run_module_as_main\n    \"__main__\", mod_spec)\n  File \"/usr/lib/python3.6/runpy.py\", line 85, in _run_code\n    exec(code, run_globals)\n  File \"/home/jjpro/jjprojects/p3tf/lib/python3.6/site-packages/ipykernel_launcher.py\", line 16, in <module>\n    app.launch_new_instance()\n  File \"/home/jjpro/jjprojects/p3tf/lib/python3.6/site-packages/traitlets/config/application.py\", line 658, in launch_instance\n    app.start()\n  File \"/home/jjpro/jjprojects/p3tf/lib/python3.6/site-packages/ipykernel/kernelapp.py\", line 505, in start\n    self.io_loop.start()\n  File \"/home/jjpro/jjprojects/p3tf/lib/python3.6/site-packages/tornado/platform/asyncio.py\", line 148, in start\n    self.asyncio_loop.run_forever()\n  File \"/usr/lib/python3.6/asyncio/base_events.py\", line 438, in run_forever\n    self._run_once()\n  File \"/usr/lib/python3.6/asyncio/base_events.py\", line 1451, in _run_once\n    handle._run()\n  File \"/usr/lib/python3.6/asyncio/events.py\", line 145, in _run\n    self._callback(*self._args)\n  File \"/home/jjpro/jjprojects/p3tf/lib/python3.6/site-packages/tornado/ioloop.py\", line 690, in <lambda>\n    lambda f: self._run_callback(functools.partial(callback, future))\n  File \"/home/jjpro/jjprojects/p3tf/lib/python3.6/site-packages/tornado/ioloop.py\", line 743, in _run_callback\n    ret = callback()\n  File \"/home/jjpro/jjprojects/p3tf/lib/python3.6/site-packages/tornado/gen.py\", line 781, in inner\n    self.run()\n  File \"/home/jjpro/jjprojects/p3tf/lib/python3.6/site-packages/tornado/gen.py\", line 742, in run\n    yielded = self.gen.send(value)\n  File \"/home/jjpro/jjprojects/p3tf/lib/python3.6/site-packages/ipykernel/kernelbase.py\", line 357, in process_one\n    yield gen.maybe_future(dispatch(*args))\n  File \"/home/jjpro/jjprojects/p3tf/lib/python3.6/site-packages/tornado/gen.py\", line 209, in wrapper\n    yielded = next(result)\n  File \"/home/jjpro/jjprojects/p3tf/lib/python3.6/site-packages/ipykernel/kernelbase.py\", line 267, in dispatch_shell\n    yield gen.maybe_future(handler(stream, idents, msg))\n  File \"/home/jjpro/jjprojects/p3tf/lib/python3.6/site-packages/tornado/gen.py\", line 209, in wrapper\n    yielded = next(result)\n  File \"/home/jjpro/jjprojects/p3tf/lib/python3.6/site-packages/ipykernel/kernelbase.py\", line 534, in execute_request\n    user_expressions, allow_stdin,\n  File \"/home/jjpro/jjprojects/p3tf/lib/python3.6/site-packages/tornado/gen.py\", line 209, in wrapper\n    yielded = next(result)\n  File \"/home/jjpro/jjprojects/p3tf/lib/python3.6/site-packages/ipykernel/ipkernel.py\", line 294, in do_execute\n    res = shell.run_cell(code, store_history=store_history, silent=silent)\n  File \"/home/jjpro/jjprojects/p3tf/lib/python3.6/site-packages/ipykernel/zmqshell.py\", line 536, in run_cell\n    return super(ZMQInteractiveShell, self).run_cell(*args, **kwargs)\n  File \"/home/jjpro/jjprojects/p3tf/lib/python3.6/site-packages/IPython/core/interactiveshell.py\", line 2848, in run_cell\n    raw_cell, store_history, silent, shell_futures)\n  File \"/home/jjpro/jjprojects/p3tf/lib/python3.6/site-packages/IPython/core/interactiveshell.py\", line 2874, in _run_cell\n    return runner(coro)\n  File \"/home/jjpro/jjprojects/p3tf/lib/python3.6/site-packages/IPython/core/async_helpers.py\", line 67, in _pseudo_sync_runner\n    coro.send(None)\n  File \"/home/jjpro/jjprojects/p3tf/lib/python3.6/site-packages/IPython/core/interactiveshell.py\", line 3049, in run_cell_async\n    interactivity=interactivity, compiler=compiler, result=result)\n  File \"/home/jjpro/jjprojects/p3tf/lib/python3.6/site-packages/IPython/core/interactiveshell.py\", line 3214, in run_ast_nodes\n    if (yield from self.run_code(code, result)):\n  File \"/home/jjpro/jjprojects/p3tf/lib/python3.6/site-packages/IPython/core/interactiveshell.py\", line 3296, in run_code\n    exec(code_obj, self.user_global_ns, self.user_ns)\n  File \"<ipython-input-11-dc7dcb1f8185>\", line 3, in <module>\n    saver = tf.train.Saver()\n  File \"/home/jjpro/jjprojects/p3tf/lib/python3.6/site-packages/tensorflow/python/training/saver.py\", line 832, in __init__\n    self.build()\n  File \"/home/jjpro/jjprojects/p3tf/lib/python3.6/site-packages/tensorflow/python/training/saver.py\", line 844, in build\n    self._build(self._filename, build_save=True, build_restore=True)\n  File \"/home/jjpro/jjprojects/p3tf/lib/python3.6/site-packages/tensorflow/python/training/saver.py\", line 881, in _build\n    build_save=build_save, build_restore=build_restore)\n  File \"/home/jjpro/jjprojects/p3tf/lib/python3.6/site-packages/tensorflow/python/training/saver.py\", line 510, in _build_internal\n    save_tensor = self._AddSaveOps(filename_tensor, saveables)\n  File \"/home/jjpro/jjprojects/p3tf/lib/python3.6/site-packages/tensorflow/python/training/saver.py\", line 210, in _AddSaveOps\n    save = self.save_op(filename_tensor, saveables)\n  File \"/home/jjpro/jjprojects/p3tf/lib/python3.6/site-packages/tensorflow/python/training/saver.py\", line 124, in save_op\n    tensors)\n  File \"/home/jjpro/jjprojects/p3tf/lib/python3.6/site-packages/tensorflow/python/ops/gen_io_ops.py\", line 1807, in save_v2\n    name=name)\n  File \"/home/jjpro/jjprojects/p3tf/lib/python3.6/site-packages/tensorflow/python/framework/op_def_library.py\", line 788, in _apply_op_helper\n    op_def=op_def)\n  File \"/home/jjpro/jjprojects/p3tf/lib/python3.6/site-packages/tensorflow/python/util/deprecation.py\", line 507, in new_func\n    return func(*args, **kwargs)\n  File \"/home/jjpro/jjprojects/p3tf/lib/python3.6/site-packages/tensorflow/python/framework/ops.py\", line 3300, in create_op\n    op_def=op_def)\n  File \"/home/jjpro/jjprojects/p3tf/lib/python3.6/site-packages/tensorflow/python/framework/ops.py\", line 1801, in __init__\n    self._traceback = tf_stack.extract_stack()\n\nPermissionDeniedError (see above for traceback): /duck_model; Permission denied\n\t [[node save/SaveV2 (defined at <ipython-input-11-dc7dcb1f8185>:3) ]]\n",
     "output_type": "error",
     "traceback": [
      "\u001b[0;31m---------------------------------------------------------------------------\u001b[0m",
      "\u001b[0;31mPermissionDeniedError\u001b[0m                     Traceback (most recent call last)",
      "\u001b[0;32m~/jjprojects/p3tf/lib/python3.6/site-packages/tensorflow/python/client/session.py\u001b[0m in \u001b[0;36m_do_call\u001b[0;34m(self, fn, *args)\u001b[0m\n\u001b[1;32m   1333\u001b[0m     \u001b[0;32mtry\u001b[0m\u001b[0;34m:\u001b[0m\u001b[0;34m\u001b[0m\u001b[0;34m\u001b[0m\u001b[0m\n\u001b[0;32m-> 1334\u001b[0;31m       \u001b[0;32mreturn\u001b[0m \u001b[0mfn\u001b[0m\u001b[0;34m(\u001b[0m\u001b[0;34m*\u001b[0m\u001b[0margs\u001b[0m\u001b[0;34m)\u001b[0m\u001b[0;34m\u001b[0m\u001b[0;34m\u001b[0m\u001b[0m\n\u001b[0m\u001b[1;32m   1335\u001b[0m     \u001b[0;32mexcept\u001b[0m \u001b[0merrors\u001b[0m\u001b[0;34m.\u001b[0m\u001b[0mOpError\u001b[0m \u001b[0;32mas\u001b[0m \u001b[0me\u001b[0m\u001b[0;34m:\u001b[0m\u001b[0;34m\u001b[0m\u001b[0;34m\u001b[0m\u001b[0m\n",
      "\u001b[0;32m~/jjprojects/p3tf/lib/python3.6/site-packages/tensorflow/python/client/session.py\u001b[0m in \u001b[0;36m_run_fn\u001b[0;34m(feed_dict, fetch_list, target_list, options, run_metadata)\u001b[0m\n\u001b[1;32m   1318\u001b[0m       return self._call_tf_sessionrun(\n\u001b[0;32m-> 1319\u001b[0;31m           options, feed_dict, fetch_list, target_list, run_metadata)\n\u001b[0m\u001b[1;32m   1320\u001b[0m \u001b[0;34m\u001b[0m\u001b[0m\n",
      "\u001b[0;32m~/jjprojects/p3tf/lib/python3.6/site-packages/tensorflow/python/client/session.py\u001b[0m in \u001b[0;36m_call_tf_sessionrun\u001b[0;34m(self, options, feed_dict, fetch_list, target_list, run_metadata)\u001b[0m\n\u001b[1;32m   1406\u001b[0m         \u001b[0mself\u001b[0m\u001b[0;34m.\u001b[0m\u001b[0m_session\u001b[0m\u001b[0;34m,\u001b[0m \u001b[0moptions\u001b[0m\u001b[0;34m,\u001b[0m \u001b[0mfeed_dict\u001b[0m\u001b[0;34m,\u001b[0m \u001b[0mfetch_list\u001b[0m\u001b[0;34m,\u001b[0m \u001b[0mtarget_list\u001b[0m\u001b[0;34m,\u001b[0m\u001b[0;34m\u001b[0m\u001b[0;34m\u001b[0m\u001b[0m\n\u001b[0;32m-> 1407\u001b[0;31m         run_metadata)\n\u001b[0m\u001b[1;32m   1408\u001b[0m \u001b[0;34m\u001b[0m\u001b[0m\n",
      "\u001b[0;31mPermissionDeniedError\u001b[0m: /duck_model; Permission denied\n\t [[{{node save/SaveV2}}]]",
      "\nDuring handling of the above exception, another exception occurred:\n",
      "\u001b[0;31mPermissionDeniedError\u001b[0m                     Traceback (most recent call last)",
      "\u001b[0;32m<ipython-input-11-dc7dcb1f8185>\u001b[0m in \u001b[0;36m<module>\u001b[0;34m\u001b[0m\n\u001b[1;32m     23\u001b[0m \u001b[0;32mif\u001b[0m \u001b[0msave_mode\u001b[0m\u001b[0;34m:\u001b[0m\u001b[0;34m\u001b[0m\u001b[0;34m\u001b[0m\u001b[0m\n\u001b[1;32m     24\u001b[0m     \u001b[0msave_path\u001b[0m \u001b[0;34m=\u001b[0m \u001b[0msaver\u001b[0m\u001b[0;34m.\u001b[0m\u001b[0msave\u001b[0m\u001b[0;34m(\u001b[0m\u001b[0msess\u001b[0m\u001b[0;34m,\u001b[0m \u001b[0msave_folder\u001b[0m\u001b[0;34m)\u001b[0m\u001b[0;34m\u001b[0m\u001b[0;34m\u001b[0m\u001b[0m\n\u001b[0;32m---> 25\u001b[0;31m     \u001b[0msave_path2\u001b[0m \u001b[0;34m=\u001b[0m \u001b[0msaver\u001b[0m\u001b[0;34m.\u001b[0m\u001b[0msave\u001b[0m\u001b[0;34m(\u001b[0m\u001b[0msess\u001b[0m\u001b[0;34m,\u001b[0m \u001b[0;34m\"/duck_model/model.ckpt\"\u001b[0m\u001b[0;34m)\u001b[0m\u001b[0;34m\u001b[0m\u001b[0;34m\u001b[0m\u001b[0m\n\u001b[0m",
      "\u001b[0;32m~/jjprojects/p3tf/lib/python3.6/site-packages/tensorflow/python/training/saver.py\u001b[0m in \u001b[0;36msave\u001b[0;34m(self, sess, save_path, global_step, latest_filename, meta_graph_suffix, write_meta_graph, write_state, strip_default_attrs)\u001b[0m\n\u001b[1;32m   1169\u001b[0m           model_checkpoint_path = sess.run(\n\u001b[1;32m   1170\u001b[0m               \u001b[0mself\u001b[0m\u001b[0;34m.\u001b[0m\u001b[0msaver_def\u001b[0m\u001b[0;34m.\u001b[0m\u001b[0msave_tensor_name\u001b[0m\u001b[0;34m,\u001b[0m\u001b[0;34m\u001b[0m\u001b[0;34m\u001b[0m\u001b[0m\n\u001b[0;32m-> 1171\u001b[0;31m               {self.saver_def.filename_tensor_name: checkpoint_file})\n\u001b[0m\u001b[1;32m   1172\u001b[0m \u001b[0;34m\u001b[0m\u001b[0m\n\u001b[1;32m   1173\u001b[0m         \u001b[0mmodel_checkpoint_path\u001b[0m \u001b[0;34m=\u001b[0m \u001b[0mcompat\u001b[0m\u001b[0;34m.\u001b[0m\u001b[0mas_str\u001b[0m\u001b[0;34m(\u001b[0m\u001b[0mmodel_checkpoint_path\u001b[0m\u001b[0;34m)\u001b[0m\u001b[0;34m\u001b[0m\u001b[0;34m\u001b[0m\u001b[0m\n",
      "\u001b[0;32m~/jjprojects/p3tf/lib/python3.6/site-packages/tensorflow/python/client/session.py\u001b[0m in \u001b[0;36mrun\u001b[0;34m(self, fetches, feed_dict, options, run_metadata)\u001b[0m\n\u001b[1;32m    927\u001b[0m     \u001b[0;32mtry\u001b[0m\u001b[0;34m:\u001b[0m\u001b[0;34m\u001b[0m\u001b[0;34m\u001b[0m\u001b[0m\n\u001b[1;32m    928\u001b[0m       result = self._run(None, fetches, feed_dict, options_ptr,\n\u001b[0;32m--> 929\u001b[0;31m                          run_metadata_ptr)\n\u001b[0m\u001b[1;32m    930\u001b[0m       \u001b[0;32mif\u001b[0m \u001b[0mrun_metadata\u001b[0m\u001b[0;34m:\u001b[0m\u001b[0;34m\u001b[0m\u001b[0;34m\u001b[0m\u001b[0m\n\u001b[1;32m    931\u001b[0m         \u001b[0mproto_data\u001b[0m \u001b[0;34m=\u001b[0m \u001b[0mtf_session\u001b[0m\u001b[0;34m.\u001b[0m\u001b[0mTF_GetBuffer\u001b[0m\u001b[0;34m(\u001b[0m\u001b[0mrun_metadata_ptr\u001b[0m\u001b[0;34m)\u001b[0m\u001b[0;34m\u001b[0m\u001b[0;34m\u001b[0m\u001b[0m\n",
      "\u001b[0;32m~/jjprojects/p3tf/lib/python3.6/site-packages/tensorflow/python/client/session.py\u001b[0m in \u001b[0;36m_run\u001b[0;34m(self, handle, fetches, feed_dict, options, run_metadata)\u001b[0m\n\u001b[1;32m   1150\u001b[0m     \u001b[0;32mif\u001b[0m \u001b[0mfinal_fetches\u001b[0m \u001b[0;32mor\u001b[0m \u001b[0mfinal_targets\u001b[0m \u001b[0;32mor\u001b[0m \u001b[0;34m(\u001b[0m\u001b[0mhandle\u001b[0m \u001b[0;32mand\u001b[0m \u001b[0mfeed_dict_tensor\u001b[0m\u001b[0;34m)\u001b[0m\u001b[0;34m:\u001b[0m\u001b[0;34m\u001b[0m\u001b[0;34m\u001b[0m\u001b[0m\n\u001b[1;32m   1151\u001b[0m       results = self._do_run(handle, final_targets, final_fetches,\n\u001b[0;32m-> 1152\u001b[0;31m                              feed_dict_tensor, options, run_metadata)\n\u001b[0m\u001b[1;32m   1153\u001b[0m     \u001b[0;32melse\u001b[0m\u001b[0;34m:\u001b[0m\u001b[0;34m\u001b[0m\u001b[0;34m\u001b[0m\u001b[0m\n\u001b[1;32m   1154\u001b[0m       \u001b[0mresults\u001b[0m \u001b[0;34m=\u001b[0m \u001b[0;34m[\u001b[0m\u001b[0;34m]\u001b[0m\u001b[0;34m\u001b[0m\u001b[0;34m\u001b[0m\u001b[0m\n",
      "\u001b[0;32m~/jjprojects/p3tf/lib/python3.6/site-packages/tensorflow/python/client/session.py\u001b[0m in \u001b[0;36m_do_run\u001b[0;34m(self, handle, target_list, fetch_list, feed_dict, options, run_metadata)\u001b[0m\n\u001b[1;32m   1326\u001b[0m     \u001b[0;32mif\u001b[0m \u001b[0mhandle\u001b[0m \u001b[0;32mis\u001b[0m \u001b[0;32mNone\u001b[0m\u001b[0;34m:\u001b[0m\u001b[0;34m\u001b[0m\u001b[0;34m\u001b[0m\u001b[0m\n\u001b[1;32m   1327\u001b[0m       return self._do_call(_run_fn, feeds, fetches, targets, options,\n\u001b[0;32m-> 1328\u001b[0;31m                            run_metadata)\n\u001b[0m\u001b[1;32m   1329\u001b[0m     \u001b[0;32melse\u001b[0m\u001b[0;34m:\u001b[0m\u001b[0;34m\u001b[0m\u001b[0;34m\u001b[0m\u001b[0m\n\u001b[1;32m   1330\u001b[0m       \u001b[0;32mreturn\u001b[0m \u001b[0mself\u001b[0m\u001b[0;34m.\u001b[0m\u001b[0m_do_call\u001b[0m\u001b[0;34m(\u001b[0m\u001b[0m_prun_fn\u001b[0m\u001b[0;34m,\u001b[0m \u001b[0mhandle\u001b[0m\u001b[0;34m,\u001b[0m \u001b[0mfeeds\u001b[0m\u001b[0;34m,\u001b[0m \u001b[0mfetches\u001b[0m\u001b[0;34m)\u001b[0m\u001b[0;34m\u001b[0m\u001b[0;34m\u001b[0m\u001b[0m\n",
      "\u001b[0;32m~/jjprojects/p3tf/lib/python3.6/site-packages/tensorflow/python/client/session.py\u001b[0m in \u001b[0;36m_do_call\u001b[0;34m(self, fn, *args)\u001b[0m\n\u001b[1;32m   1346\u001b[0m           \u001b[0;32mpass\u001b[0m\u001b[0;34m\u001b[0m\u001b[0;34m\u001b[0m\u001b[0m\n\u001b[1;32m   1347\u001b[0m       \u001b[0mmessage\u001b[0m \u001b[0;34m=\u001b[0m \u001b[0merror_interpolation\u001b[0m\u001b[0;34m.\u001b[0m\u001b[0minterpolate\u001b[0m\u001b[0;34m(\u001b[0m\u001b[0mmessage\u001b[0m\u001b[0;34m,\u001b[0m \u001b[0mself\u001b[0m\u001b[0;34m.\u001b[0m\u001b[0m_graph\u001b[0m\u001b[0;34m)\u001b[0m\u001b[0;34m\u001b[0m\u001b[0;34m\u001b[0m\u001b[0m\n\u001b[0;32m-> 1348\u001b[0;31m       \u001b[0;32mraise\u001b[0m \u001b[0mtype\u001b[0m\u001b[0;34m(\u001b[0m\u001b[0me\u001b[0m\u001b[0;34m)\u001b[0m\u001b[0;34m(\u001b[0m\u001b[0mnode_def\u001b[0m\u001b[0;34m,\u001b[0m \u001b[0mop\u001b[0m\u001b[0;34m,\u001b[0m \u001b[0mmessage\u001b[0m\u001b[0;34m)\u001b[0m\u001b[0;34m\u001b[0m\u001b[0;34m\u001b[0m\u001b[0m\n\u001b[0m\u001b[1;32m   1349\u001b[0m \u001b[0;34m\u001b[0m\u001b[0m\n\u001b[1;32m   1350\u001b[0m   \u001b[0;32mdef\u001b[0m \u001b[0m_extend_graph\u001b[0m\u001b[0;34m(\u001b[0m\u001b[0mself\u001b[0m\u001b[0;34m)\u001b[0m\u001b[0;34m:\u001b[0m\u001b[0;34m\u001b[0m\u001b[0;34m\u001b[0m\u001b[0m\n",
      "\u001b[0;31mPermissionDeniedError\u001b[0m: /duck_model; Permission denied\n\t [[node save/SaveV2 (defined at <ipython-input-11-dc7dcb1f8185>:3) ]]\n\nCaused by op 'save/SaveV2', defined at:\n  File \"/usr/lib/python3.6/runpy.py\", line 193, in _run_module_as_main\n    \"__main__\", mod_spec)\n  File \"/usr/lib/python3.6/runpy.py\", line 85, in _run_code\n    exec(code, run_globals)\n  File \"/home/jjpro/jjprojects/p3tf/lib/python3.6/site-packages/ipykernel_launcher.py\", line 16, in <module>\n    app.launch_new_instance()\n  File \"/home/jjpro/jjprojects/p3tf/lib/python3.6/site-packages/traitlets/config/application.py\", line 658, in launch_instance\n    app.start()\n  File \"/home/jjpro/jjprojects/p3tf/lib/python3.6/site-packages/ipykernel/kernelapp.py\", line 505, in start\n    self.io_loop.start()\n  File \"/home/jjpro/jjprojects/p3tf/lib/python3.6/site-packages/tornado/platform/asyncio.py\", line 148, in start\n    self.asyncio_loop.run_forever()\n  File \"/usr/lib/python3.6/asyncio/base_events.py\", line 438, in run_forever\n    self._run_once()\n  File \"/usr/lib/python3.6/asyncio/base_events.py\", line 1451, in _run_once\n    handle._run()\n  File \"/usr/lib/python3.6/asyncio/events.py\", line 145, in _run\n    self._callback(*self._args)\n  File \"/home/jjpro/jjprojects/p3tf/lib/python3.6/site-packages/tornado/ioloop.py\", line 690, in <lambda>\n    lambda f: self._run_callback(functools.partial(callback, future))\n  File \"/home/jjpro/jjprojects/p3tf/lib/python3.6/site-packages/tornado/ioloop.py\", line 743, in _run_callback\n    ret = callback()\n  File \"/home/jjpro/jjprojects/p3tf/lib/python3.6/site-packages/tornado/gen.py\", line 781, in inner\n    self.run()\n  File \"/home/jjpro/jjprojects/p3tf/lib/python3.6/site-packages/tornado/gen.py\", line 742, in run\n    yielded = self.gen.send(value)\n  File \"/home/jjpro/jjprojects/p3tf/lib/python3.6/site-packages/ipykernel/kernelbase.py\", line 357, in process_one\n    yield gen.maybe_future(dispatch(*args))\n  File \"/home/jjpro/jjprojects/p3tf/lib/python3.6/site-packages/tornado/gen.py\", line 209, in wrapper\n    yielded = next(result)\n  File \"/home/jjpro/jjprojects/p3tf/lib/python3.6/site-packages/ipykernel/kernelbase.py\", line 267, in dispatch_shell\n    yield gen.maybe_future(handler(stream, idents, msg))\n  File \"/home/jjpro/jjprojects/p3tf/lib/python3.6/site-packages/tornado/gen.py\", line 209, in wrapper\n    yielded = next(result)\n  File \"/home/jjpro/jjprojects/p3tf/lib/python3.6/site-packages/ipykernel/kernelbase.py\", line 534, in execute_request\n    user_expressions, allow_stdin,\n  File \"/home/jjpro/jjprojects/p3tf/lib/python3.6/site-packages/tornado/gen.py\", line 209, in wrapper\n    yielded = next(result)\n  File \"/home/jjpro/jjprojects/p3tf/lib/python3.6/site-packages/ipykernel/ipkernel.py\", line 294, in do_execute\n    res = shell.run_cell(code, store_history=store_history, silent=silent)\n  File \"/home/jjpro/jjprojects/p3tf/lib/python3.6/site-packages/ipykernel/zmqshell.py\", line 536, in run_cell\n    return super(ZMQInteractiveShell, self).run_cell(*args, **kwargs)\n  File \"/home/jjpro/jjprojects/p3tf/lib/python3.6/site-packages/IPython/core/interactiveshell.py\", line 2848, in run_cell\n    raw_cell, store_history, silent, shell_futures)\n  File \"/home/jjpro/jjprojects/p3tf/lib/python3.6/site-packages/IPython/core/interactiveshell.py\", line 2874, in _run_cell\n    return runner(coro)\n  File \"/home/jjpro/jjprojects/p3tf/lib/python3.6/site-packages/IPython/core/async_helpers.py\", line 67, in _pseudo_sync_runner\n    coro.send(None)\n  File \"/home/jjpro/jjprojects/p3tf/lib/python3.6/site-packages/IPython/core/interactiveshell.py\", line 3049, in run_cell_async\n    interactivity=interactivity, compiler=compiler, result=result)\n  File \"/home/jjpro/jjprojects/p3tf/lib/python3.6/site-packages/IPython/core/interactiveshell.py\", line 3214, in run_ast_nodes\n    if (yield from self.run_code(code, result)):\n  File \"/home/jjpro/jjprojects/p3tf/lib/python3.6/site-packages/IPython/core/interactiveshell.py\", line 3296, in run_code\n    exec(code_obj, self.user_global_ns, self.user_ns)\n  File \"<ipython-input-11-dc7dcb1f8185>\", line 3, in <module>\n    saver = tf.train.Saver()\n  File \"/home/jjpro/jjprojects/p3tf/lib/python3.6/site-packages/tensorflow/python/training/saver.py\", line 832, in __init__\n    self.build()\n  File \"/home/jjpro/jjprojects/p3tf/lib/python3.6/site-packages/tensorflow/python/training/saver.py\", line 844, in build\n    self._build(self._filename, build_save=True, build_restore=True)\n  File \"/home/jjpro/jjprojects/p3tf/lib/python3.6/site-packages/tensorflow/python/training/saver.py\", line 881, in _build\n    build_save=build_save, build_restore=build_restore)\n  File \"/home/jjpro/jjprojects/p3tf/lib/python3.6/site-packages/tensorflow/python/training/saver.py\", line 510, in _build_internal\n    save_tensor = self._AddSaveOps(filename_tensor, saveables)\n  File \"/home/jjpro/jjprojects/p3tf/lib/python3.6/site-packages/tensorflow/python/training/saver.py\", line 210, in _AddSaveOps\n    save = self.save_op(filename_tensor, saveables)\n  File \"/home/jjpro/jjprojects/p3tf/lib/python3.6/site-packages/tensorflow/python/training/saver.py\", line 124, in save_op\n    tensors)\n  File \"/home/jjpro/jjprojects/p3tf/lib/python3.6/site-packages/tensorflow/python/ops/gen_io_ops.py\", line 1807, in save_v2\n    name=name)\n  File \"/home/jjpro/jjprojects/p3tf/lib/python3.6/site-packages/tensorflow/python/framework/op_def_library.py\", line 788, in _apply_op_helper\n    op_def=op_def)\n  File \"/home/jjpro/jjprojects/p3tf/lib/python3.6/site-packages/tensorflow/python/util/deprecation.py\", line 507, in new_func\n    return func(*args, **kwargs)\n  File \"/home/jjpro/jjprojects/p3tf/lib/python3.6/site-packages/tensorflow/python/framework/ops.py\", line 3300, in create_op\n    op_def=op_def)\n  File \"/home/jjpro/jjprojects/p3tf/lib/python3.6/site-packages/tensorflow/python/framework/ops.py\", line 1801, in __init__\n    self._traceback = tf_stack.extract_stack()\n\nPermissionDeniedError (see above for traceback): /duck_model; Permission denied\n\t [[node save/SaveV2 (defined at <ipython-input-11-dc7dcb1f8185>:3) ]]\n"
     ]
    }
   ],
   "source": [
    "sess = tf.Session()\n",
    "if save_mode:\n",
    "    saver = tf.train.Saver()\n",
    "init = tf.global_variables_initializer()\n",
    "sess.run(init)\n",
    "\n",
    "tmp_loss, tmp_acc = None, None\n",
    "train_loss, train_acc, valid_loss, valid_acc = [], [], [], []\n",
    "for i in range(num_epochs):\n",
    "        x_bar_imag, y_bar = shuffle(picture_train, train_label_one_hot)\n",
    "        for batch in range(len(x_bar_imag) // batch_size):\n",
    "            batch_x = x_bar_imag[batch * batch_size:min((batch + 1) * batch_size, len(x_bar_imag))]\n",
    "            batch_y = y_bar[batch * batch_size:min((batch + 1) * batch_size, len(y_bar))]    \n",
    "            opt = sess.run(optimizer, feed_dict={pic_placehold:batch_x, out_placehold:batch_y})\n",
    "            tmp_loss, tmp_acc = sess.run([cost, accuracy], feed_dict={pic_placehold:batch_x, out_placehold:batch_y})\n",
    "        train_loss.append(tmp_loss)\n",
    "        train_acc.append(tmp_acc)\n",
    "        loss, acc = sess.run([cost, accuracy], feed_dict={pic_placehold:picture_test, out_placehold:test_label_one_hot})\n",
    "        valid_loss.append(loss)\n",
    "        valid_acc.append(acc)\n",
    "        print(('Iter {0:02d} --- Loss = {1:02.3f} --- Acc = {2:02.4f} --- Val Loss = {3:02.3f} --- Val Acc = {4:02.4f}').format(i, tmp_loss, tmp_acc * 100, valid_loss[i], valid_acc[i] * 100))\n",
    "\n",
    "if save_mode:\n",
    "    save_path = saver.save(sess, save_folder)\n",
    "    save_path2 = saver.save(sess, \"/duck_model/model.ckpt\")"
   ]
  },
  {
   "cell_type": "code",
   "execution_count": 83,
   "metadata": {
    "colab": {
     "base_uri": "https://localhost:8080/",
     "height": 589
    },
    "colab_type": "code",
    "id": "ZA4F-Q9SiGt7",
    "outputId": "cea1e69d-00fc-4784-aa85-ecc1631dba14"
   },
   "outputs": [
    {
     "data": {
      "text/plain": [
       "Text(0, 0.5, 'Accuracy')"
      ]
     },
     "execution_count": 83,
     "metadata": {},
     "output_type": "execute_result"
    },
    {
     "data": {
      "image/png": "[encoded data removed]",
      "text/plain": [
       "<Figure size 432x288 with 1 Axes>"
      ]
     },
     "metadata": {
      "needs_background": "light"
     },
     "output_type": "display_data"
    },
    {
     "data": {
      "image/png": "[encoded data removed]",
      "text/plain": [
       "<Figure size 432x288 with 1 Axes>"
      ]
     },
     "metadata": {
      "needs_background": "light"
     },
     "output_type": "display_data"
    }
   ],
   "source": [
    "plt.figure()\n",
    "plt.plot(train_loss, color='b', label='Training')\n",
    "plt.plot(valid_loss, color='r', label='Validation')\n",
    "plt.legend()\n",
    "plt.title('Loss Curve')\n",
    "plt.xlabel('Number of epochs')\n",
    "plt.ylabel('Cross entropy')\n",
    "\n",
    "plt.figure()\n",
    "plt.plot(train_acc, color='b', label='Training')\n",
    "plt.plot(valid_acc, color='r', label='Validation')\n",
    "plt.legend()\n",
    "plt.title('Accuracy Curves')\n",
    "plt.xlabel('Number of epochs')\n",
    "plt.ylabel('Accuracy')"
   ]
  },
  {
   "cell_type": "code",
   "execution_count": null,
   "metadata": {
    "colab": {},
    "colab_type": "code",
    "id": "ZzFpUEl7j3-B"
   },
   "outputs": [],
   "source": []
  },
  {
   "cell_type": "code",
   "execution_count": null,
   "metadata": {},
   "outputs": [],
   "source": []
  }
 ],
 "metadata": {
  "accelerator": "GPU",
  "colab": {
   "collapsed_sections": [],
   "name": "Duckiebot.ipynb",
   "provenance": []
  },
  "kernelspec": {
   "display_name": "Python 3",
   "language": "python",
   "name": "python3"
  },
  "language_info": {
   "codemirror_mode": {
    "name": "ipython",
    "version": 3
   },
   "file_extension": ".py",
   "mimetype": "text/x-python",
   "name": "python",
   "nbconvert_exporter": "python",
   "pygments_lexer": "ipython3",
   "version": "3.6.7"
  }
 },
 "nbformat": 4,
 "nbformat_minor": 1
}
