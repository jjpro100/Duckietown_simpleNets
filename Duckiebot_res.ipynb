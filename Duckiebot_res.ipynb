{
 "cells": [
  {
   "cell_type": "code",
   "execution_count": 102,
   "metadata": {
    "colab": {},
    "colab_type": "code",
    "id": "onsqaqfI9_Aw"
   },
   "outputs": [],
   "source": [
    "import tensorflow as tf\n",
    "import os\n",
    "import cv2\n",
    "import numpy as np\n",
    "import matplotlib.pyplot as plt\n",
    "from sklearn.utils import shuffle\n",
    "import time"
   ]
  },
  {
   "cell_type": "code",
   "execution_count": 103,
   "metadata": {
    "colab": {},
    "colab_type": "code",
    "id": "IfAQNlEE-FUC"
   },
   "outputs": [],
   "source": [
    "folder_path = './'\n",
    "subfolder_path = 'middle_and_ducks/'\n",
    "save_folder = 'graph/student'\n",
    "\n",
    "img_size = 101\n",
    "l2_alpha = 1e-2\n",
    "l2_regularizer = False\n",
    "save_mode = True\n",
    "\n",
    "num_epochs = 100\n",
    "batch_size = 512\n",
    "lr = 0.00005\n",
    "\n",
    "L2_LAMBDA = 0.01\n",
    "\n",
    "\n",
    "def _residual_block(x, size, dropout=False, dropout_prob=0.5, seed=None):\n",
    "    residual = tf.layers.batch_normalization(x)  # TODO: check if the defaults in Tf are the same as in Keras\n",
    "    residual = tf.nn.relu(residual)\n",
    "    residual = tf.layers.conv2d(residual, filters=size, kernel_size=3, strides=2, padding='same',\n",
    "                                kernel_initializer=tf.keras.initializers.he_normal(seed=seed),\n",
    "                                kernel_regularizer=tf.keras.regularizers.l2(L2_LAMBDA))\n",
    "    if dropout:\n",
    "        residual = tf.nn.dropout(residual, dropout_prob, seed=seed)\n",
    "    residual = tf.layers.batch_normalization(residual)\n",
    "    residual = tf.nn.relu(residual)\n",
    "    residual = tf.layers.conv2d(residual, filters=size, kernel_size=3, padding='same',\n",
    "                                kernel_initializer=tf.keras.initializers.he_normal(seed=seed),\n",
    "                                kernel_regularizer=tf.keras.regularizers.l2(L2_LAMBDA))\n",
    "    if dropout:\n",
    "        residual = tf.nn.dropout(residual, dropout_prob, seed=seed)\n",
    "\n",
    "    return residual\n",
    "\n",
    "\n",
    "def one_residual(x, keep_prob=0.5, seed=None):\n",
    "    nn = tf.layers.conv2d(x, filters=32, kernel_size=5, strides=2, padding='same',\n",
    "                          kernel_initializer=tf.keras.initializers.he_normal(seed=seed),\n",
    "                          kernel_regularizer=tf.keras.regularizers.l2(L2_LAMBDA))\n",
    "    nn = tf.layers.max_pooling2d(nn, pool_size=3, strides=2)\n",
    "\n",
    "    rb_1 = _residual_block(nn, 32, dropout_prob=keep_prob, seed=seed)\n",
    "\n",
    "    nn = tf.layers.conv2d(nn, filters=32, kernel_size=1, strides=2, padding='same',\n",
    "                          kernel_initializer=tf.keras.initializers.he_normal(seed=seed),\n",
    "                          kernel_regularizer=tf.keras.regularizers.l2(L2_LAMBDA))\n",
    "    nn = tf.keras.layers.add([rb_1, nn])\n",
    "\n",
    "    nn = tf.layers.flatten(nn)\n",
    "\n",
    "    return nn"
   ]
  },
  {
   "cell_type": "code",
   "execution_count": 104,
   "metadata": {
    "colab": {},
    "colab_type": "code",
    "id": "HZryPY2TaPVL"
   },
   "outputs": [],
   "source": [
    "train_image, train_label, test_image, test_label = [], [], [], []\n",
    "\n",
    "with open(folder_path + subfolder_path + 'train.txt', 'r') as f:\n",
    "    temp = [l.split(' ') for l in f.read().splitlines()]\n",
    "f.close()\n",
    "\n",
    "for l in temp:\n",
    "    img = cv2.imread(folder_path + l[0])\n",
    "    train_image.append(cv2.resize(img, (img_size, img_size), interpolation=cv2.INTER_CUBIC))\n",
    "    train_label.append(l[1])\n",
    "\n",
    "with open(folder_path + subfolder_path + 'test.txt', 'r') as f:\n",
    "    temp = [l.split(' ') for l in f.read().splitlines()]\n",
    "f.close()\n",
    "\n",
    "for l in temp:\n",
    "    img = cv2.imread(folder_path + l[0])\n",
    "    test_image.append(cv2.resize(img, (img_size, img_size), interpolation=cv2.INTER_CUBIC))\n",
    "    test_label.append(l[1])\n",
    "\n",
    "train_label = np.array(train_label).astype(np.int)\n",
    "test_label = np.array(test_label).astype(np.int)\n",
    "\n",
    "picture_train = (np.array(train_image).astype(np.float32) - 127.5) / 127.5\n",
    "picture_test = (np.array(test_image).astype(np.float32) - 127.5) / 127.5\n",
    "\n",
    "train_label_one_hot = np.zeros((len(train_label), 15)).astype(np.int32)\n",
    "test_label_one_hot = np.zeros((len(test_label), 15)).astype(np.int32)\n",
    "for i in range(len(train_label)):\n",
    "    train_label_one_hot[i, train_label[i]] = 1\n",
    "for i in range(len(test_label)):\n",
    "    test_label_one_hot[i, test_label[i]] = 1"
   ]
  },
  {
   "cell_type": "code",
   "execution_count": 105,
   "metadata": {},
   "outputs": [],
   "source": [
    "# plt.hist(train_label, bins=15)\n",
    "# plt.show()"
   ]
  },
  {
   "cell_type": "code",
   "execution_count": 106,
   "metadata": {},
   "outputs": [],
   "source": [
    "# #img = tf.Variable(train_image[:2]) # img shape is [580,580,3]\n",
    "# img = tf.placeholder(dtype=tf.float32,shape=[None, img_size, img_size, 3], name='input')\n",
    "# #b = tf.image.crop_and_resize(img,[[0.5,0.1,0.9,0.5]],[0],[50,50])\n",
    "# c = tf.image.crop_to_bounding_box(\n",
    "#     image = img,\n",
    "#     offset_height = 40,\n",
    "#     offset_width = 0,\n",
    "#     target_height = 61,\n",
    "#     target_width = 101\n",
    "# )\n",
    "# sess = tf.Session()\n",
    "# sess.run(tf.global_variables_initializer())\n",
    "# #a = c.eval(session=sess)\n",
    "# a = sess.run(c, feed_dict={img: train_image})\n",
    "# plt.imshow(a[1].astype(int))\n",
    "# #plt.imshow(a[1])\n",
    "# print(a.shape)"
   ]
  },
  {
   "cell_type": "code",
   "execution_count": 107,
   "metadata": {
    "colab": {},
    "colab_type": "code",
    "id": "CUCgf8NQEctf"
   },
   "outputs": [],
   "source": [
    "tf.reset_default_graph()\n",
    "pic_placehold = tf.placeholder(dtype=tf.float32,shape=[None, img_size, img_size, 3], name='input')\n",
    "out_placehold = tf.placeholder(tf.int32, [None, 15])\n",
    "x = tf.image.crop_to_bounding_box(\n",
    "    image = pic_placehold,\n",
    "    offset_height = 40,\n",
    "    offset_width = 0,\n",
    "    target_height = 61,\n",
    "    target_width = 101\n",
    ")\n",
    "\n",
    "x = one_residual(x, seed=1234)\n",
    "x = tf.layers.dense(x, units=64, activation=tf.nn.relu,\n",
    "                                kernel_initializer=tf.contrib.layers.xavier_initializer(uniform=False, seed=1234),\n",
    "                                bias_initializer=tf.contrib.layers.xavier_initializer(uniform=False, seed=1234))\n",
    "x = tf.layers.dense(x, units=32, activation=tf.nn.relu,\n",
    "                                kernel_initializer=tf.contrib.layers.xavier_initializer(uniform=False, seed=1234),\n",
    "                                bias_initializer=tf.contrib.layers.xavier_initializer(uniform=False, seed=1234))\n",
    "\n",
    "x = tf.layers.dense(x, units = 15)\n",
    "\n",
    "\n",
    "\n",
    "# # x = tf.layers.conv2d(pic_placehold, 64, 3, strides=3, padding='valid')\n",
    "# # x = tf.nn.relu(x)\n",
    "# # x = tf.layers.batch_normalization(x)\n",
    "# x = tf.layers.conv2d(x, 64, 3, strides=3, padding='valid')\n",
    "# x = tf.nn.relu(x)\n",
    "# x = tf.nn.max_pool(x, ksize=[1, 4, 4, 1], strides=[1, 4, 4, 1], padding='VALID')\n",
    "# # x = tf.layers.batch_normalization(x)\n",
    "# x = tf.reshape(x, [-1, int(x.shape[1]) * int(x.shape[2]) * int(x.shape[3])])\n",
    "# x = tf.layers.dense(x, units = 32, trainable=True, use_bias=True)\n",
    "# x = tf.nn.relu(x)\n",
    "# x = tf.layers.dense(x, units = 15, trainable=True, use_bias=True)\n",
    "pred = x\n",
    "output1 = tf.nn.softmax(x, name='output')\n",
    "output = tf.math.argmax(output1, axis=1)\n",
    "\n"
   ]
  },
  {
   "cell_type": "code",
   "execution_count": 108,
   "metadata": {},
   "outputs": [
    {
     "name": "stdout",
     "output_type": "stream",
     "text": [
      "[ 0  1  2  3  4  5  6  7  8  9 10 11 12 13 14]\n",
      "[ 62   9   7  16  38  47  92 600 254 182 124 115 101  71 229]\n"
     ]
    }
   ],
   "source": [
    "values, counts = np.unique(train_label, return_counts = True)\n",
    "print(values)\n",
    "print(counts)"
   ]
  },
  {
   "cell_type": "code",
   "execution_count": 109,
   "metadata": {
    "colab": {},
    "colab_type": "code",
    "id": "lhobCLHwiPl6"
   },
   "outputs": [
    {
     "name": "stdout",
     "output_type": "stream",
     "text": [
      "(1, ?)\n"
     ]
    }
   ],
   "source": [
    "#cross_entropy = tf.nn.softmax_cross_entropy_with_logits(logits=pred, labels=out_placehold)\n",
    "ratio = counts*(1/np.sum(counts))\n",
    "\n",
    "class_weight = 1.0 - ratio\n",
    "\n",
    "weight_per_label = tf.transpose(tf.matmul(tf.dtypes.cast(out_placehold, tf.float32), tf.expand_dims(tf.dtypes.cast(tf.transpose(class_weight), tf.float32), 1)))\n",
    "print(weight_per_label.shape)\n",
    "\n",
    "xent = tf.multiply(weight_per_label, tf.nn.softmax_cross_entropy_with_logits(logits=pred, labels=out_placehold)) \n",
    "cross_entropy = tf.reduce_mean(xent) #shape 1\n",
    "\n",
    "#cross_entropy = tf.nn.softmax_cross_entropy_with_logits(logits=pred, labels=out_placehold)\n",
    "# cross_entropy = tf.contrib.losses.softmax_cross_entropy(logits=pred, out_placehold, weight=weight)\n",
    "var = tf.trainable_variables()\n",
    "if l2_regularizer:\n",
    "     lossL2 = tf.add_n([tf.nn.l2_loss(v) for v in var if 'kernel' in v.name]) * l2_alpha\n",
    "     cost = lossL2 + tf.reduce_mean(cross_entropy)\n",
    "cost = tf.reduce_mean(cross_entropy)\n",
    "prediction = tf.argmax(pred, 1)\n",
    "cost = tf.reduce_mean(tf.nn.softmax_cross_entropy_with_logits(logits=pred, labels=out_placehold))\n",
    "optimizer = tf.train.AdamOptimizer(learning_rate=lr).minimize(cost)\n",
    "correct_prediction = tf.equal(tf.argmax(pred, 1), tf.argmax(out_placehold, 1))\n",
    "accuracy = tf.reduce_mean(tf.cast(correct_prediction, tf.float32))"
   ]
  },
  {
   "cell_type": "code",
   "execution_count": 110,
   "metadata": {
    "colab": {
     "base_uri": "https://localhost:8080/",
     "height": 1000
    },
    "colab_type": "code",
    "id": "yPE7ftaT9xnH",
    "outputId": "0a399189-5043-4f29-b686-bc0bcf69aeae"
   },
   "outputs": [
    {
     "name": "stdout",
     "output_type": "stream",
     "text": [
      "Iter 00 --- Loss = 2.764 --- Acc = 4.88 --- Val Loss = 2.662 --- Val Acc = 3.24\n",
      "Iter 01 --- Loss = 2.566 --- Acc = 12.30 --- Val Loss = 2.476 --- Val Acc = 13.89\n",
      "Iter 02 --- Loss = 2.456 --- Acc = 20.70 --- Val Loss = 2.316 --- Val Acc = 30.56\n",
      "Iter 03 --- Loss = 2.430 --- Acc = 24.61 --- Val Loss = 2.164 --- Val Acc = 42.59\n",
      "Iter 04 --- Loss = 2.390 --- Acc = 25.78 --- Val Loss = 2.037 --- Val Acc = 52.31\n",
      "Iter 05 --- Loss = 2.404 --- Acc = 25.39 --- Val Loss = 1.949 --- Val Acc = 54.63\n",
      "Iter 06 --- Loss = 2.276 --- Acc = 31.64 --- Val Loss = 1.902 --- Val Acc = 56.48\n",
      "Iter 07 --- Loss = 2.285 --- Acc = 29.10 --- Val Loss = 1.885 --- Val Acc = 56.48\n",
      "Iter 08 --- Loss = 2.262 --- Acc = 29.88 --- Val Loss = 1.889 --- Val Acc = 55.09\n",
      "Iter 09 --- Loss = 2.174 --- Acc = 32.23 --- Val Loss = 1.893 --- Val Acc = 54.63\n",
      "Iter 10 --- Loss = 2.185 --- Acc = 33.20 --- Val Loss = 1.884 --- Val Acc = 54.17\n",
      "Iter 11 --- Loss = 2.169 --- Acc = 32.81 --- Val Loss = 1.859 --- Val Acc = 54.17\n",
      "Iter 12 --- Loss = 2.176 --- Acc = 30.47 --- Val Loss = 1.824 --- Val Acc = 56.02\n",
      "Iter 13 --- Loss = 2.125 --- Acc = 32.03 --- Val Loss = 1.809 --- Val Acc = 57.41\n",
      "Iter 14 --- Loss = 2.149 --- Acc = 34.38 --- Val Loss = 1.803 --- Val Acc = 56.94\n",
      "Iter 15 --- Loss = 2.159 --- Acc = 30.66 --- Val Loss = 1.791 --- Val Acc = 55.09\n",
      "Iter 16 --- Loss = 2.105 --- Acc = 33.59 --- Val Loss = 1.795 --- Val Acc = 54.17\n",
      "Iter 17 --- Loss = 2.121 --- Acc = 34.38 --- Val Loss = 1.795 --- Val Acc = 54.17\n",
      "Iter 18 --- Loss = 2.201 --- Acc = 30.27 --- Val Loss = 1.798 --- Val Acc = 54.63\n",
      "Iter 19 --- Loss = 2.135 --- Acc = 33.79 --- Val Loss = 1.798 --- Val Acc = 53.24\n",
      "Iter 20 --- Loss = 2.120 --- Acc = 33.01 --- Val Loss = 1.795 --- Val Acc = 53.24\n",
      "Iter 21 --- Loss = 2.098 --- Acc = 35.35 --- Val Loss = 1.797 --- Val Acc = 53.24\n",
      "Iter 22 --- Loss = 2.076 --- Acc = 33.79 --- Val Loss = 1.795 --- Val Acc = 53.24\n",
      "Iter 23 --- Loss = 2.034 --- Acc = 34.57 --- Val Loss = 1.792 --- Val Acc = 53.70\n",
      "Iter 24 --- Loss = 2.066 --- Acc = 36.33 --- Val Loss = 1.800 --- Val Acc = 54.17\n",
      "Iter 25 --- Loss = 2.011 --- Acc = 35.55 --- Val Loss = 1.808 --- Val Acc = 53.70\n",
      "Iter 26 --- Loss = 2.024 --- Acc = 35.74 --- Val Loss = 1.805 --- Val Acc = 52.78\n",
      "Iter 27 --- Loss = 2.022 --- Acc = 37.11 --- Val Loss = 1.792 --- Val Acc = 52.78\n",
      "Iter 28 --- Loss = 2.044 --- Acc = 36.33 --- Val Loss = 1.775 --- Val Acc = 53.70\n",
      "Iter 29 --- Loss = 2.044 --- Acc = 35.94 --- Val Loss = 1.778 --- Val Acc = 52.78\n",
      "Iter 30 --- Loss = 2.004 --- Acc = 37.50 --- Val Loss = 1.773 --- Val Acc = 52.78\n",
      "Iter 31 --- Loss = 1.999 --- Acc = 37.30 --- Val Loss = 1.781 --- Val Acc = 52.78\n",
      "Iter 32 --- Loss = 2.017 --- Acc = 36.13 --- Val Loss = 1.780 --- Val Acc = 52.78\n",
      "Iter 33 --- Loss = 1.959 --- Acc = 36.52 --- Val Loss = 1.791 --- Val Acc = 52.78\n",
      "Iter 34 --- Loss = 1.939 --- Acc = 39.26 --- Val Loss = 1.790 --- Val Acc = 52.78\n",
      "Iter 35 --- Loss = 1.978 --- Acc = 34.57 --- Val Loss = 1.785 --- Val Acc = 52.31\n",
      "Iter 36 --- Loss = 2.035 --- Acc = 33.79 --- Val Loss = 1.773 --- Val Acc = 52.78\n",
      "Iter 37 --- Loss = 1.931 --- Acc = 37.30 --- Val Loss = 1.778 --- Val Acc = 52.31\n",
      "Iter 38 --- Loss = 1.962 --- Acc = 36.72 --- Val Loss = 1.796 --- Val Acc = 51.39\n",
      "Iter 39 --- Loss = 1.931 --- Acc = 38.87 --- Val Loss = 1.807 --- Val Acc = 50.46\n",
      "Iter 40 --- Loss = 1.998 --- Acc = 36.91 --- Val Loss = 1.788 --- Val Acc = 52.31\n",
      "Iter 41 --- Loss = 1.946 --- Acc = 37.11 --- Val Loss = 1.774 --- Val Acc = 52.31\n",
      "Iter 42 --- Loss = 1.997 --- Acc = 36.13 --- Val Loss = 1.768 --- Val Acc = 52.31\n",
      "Iter 43 --- Loss = 1.928 --- Acc = 35.74 --- Val Loss = 1.776 --- Val Acc = 52.31\n",
      "Iter 44 --- Loss = 1.887 --- Acc = 40.04 --- Val Loss = 1.792 --- Val Acc = 50.46\n",
      "Iter 45 --- Loss = 1.843 --- Acc = 40.43 --- Val Loss = 1.791 --- Val Acc = 50.46\n",
      "Iter 46 --- Loss = 1.906 --- Acc = 38.09 --- Val Loss = 1.775 --- Val Acc = 52.31\n",
      "Iter 47 --- Loss = 1.955 --- Acc = 35.16 --- Val Loss = 1.772 --- Val Acc = 52.31\n",
      "Iter 48 --- Loss = 1.911 --- Acc = 40.04 --- Val Loss = 1.775 --- Val Acc = 52.31\n",
      "Iter 49 --- Loss = 1.873 --- Acc = 39.26 --- Val Loss = 1.774 --- Val Acc = 52.31\n",
      "Iter 50 --- Loss = 1.877 --- Acc = 40.82 --- Val Loss = 1.774 --- Val Acc = 51.85\n",
      "Iter 51 --- Loss = 1.866 --- Acc = 40.43 --- Val Loss = 1.768 --- Val Acc = 50.93\n",
      "Iter 52 --- Loss = 1.903 --- Acc = 36.91 --- Val Loss = 1.767 --- Val Acc = 50.46\n",
      "Iter 53 --- Loss = 1.784 --- Acc = 41.80 --- Val Loss = 1.784 --- Val Acc = 50.46\n",
      "Iter 54 --- Loss = 1.811 --- Acc = 39.26 --- Val Loss = 1.796 --- Val Acc = 50.00\n",
      "Iter 55 --- Loss = 1.828 --- Acc = 38.87 --- Val Loss = 1.778 --- Val Acc = 51.39\n",
      "Iter 56 --- Loss = 1.895 --- Acc = 36.52 --- Val Loss = 1.769 --- Val Acc = 51.39\n",
      "Iter 57 --- Loss = 1.854 --- Acc = 37.70 --- Val Loss = 1.792 --- Val Acc = 50.00\n",
      "Iter 58 --- Loss = 1.855 --- Acc = 38.48 --- Val Loss = 1.797 --- Val Acc = 50.00\n",
      "Iter 59 --- Loss = 1.825 --- Acc = 38.67 --- Val Loss = 1.791 --- Val Acc = 50.46\n",
      "Iter 60 --- Loss = 1.867 --- Acc = 39.65 --- Val Loss = 1.775 --- Val Acc = 50.93\n",
      "Iter 61 --- Loss = 1.868 --- Acc = 39.65 --- Val Loss = 1.789 --- Val Acc = 50.00\n",
      "Iter 62 --- Loss = 1.856 --- Acc = 39.65 --- Val Loss = 1.789 --- Val Acc = 48.61\n",
      "Iter 63 --- Loss = 1.779 --- Acc = 41.41 --- Val Loss = 1.774 --- Val Acc = 49.54\n",
      "Iter 64 --- Loss = 1.801 --- Acc = 40.23 --- Val Loss = 1.778 --- Val Acc = 49.54\n",
      "Iter 65 --- Loss = 1.800 --- Acc = 39.65 --- Val Loss = 1.795 --- Val Acc = 48.61\n",
      "Iter 66 --- Loss = 1.784 --- Acc = 39.84 --- Val Loss = 1.787 --- Val Acc = 48.15\n",
      "Iter 67 --- Loss = 1.758 --- Acc = 39.26 --- Val Loss = 1.768 --- Val Acc = 48.61\n",
      "Iter 68 --- Loss = 1.765 --- Acc = 42.38 --- Val Loss = 1.778 --- Val Acc = 47.69\n",
      "Iter 69 --- Loss = 1.756 --- Acc = 42.58 --- Val Loss = 1.774 --- Val Acc = 47.69\n",
      "Iter 70 --- Loss = 1.781 --- Acc = 42.38 --- Val Loss = 1.758 --- Val Acc = 50.00\n",
      "Iter 71 --- Loss = 1.741 --- Acc = 44.14 --- Val Loss = 1.771 --- Val Acc = 49.54\n",
      "Iter 72 --- Loss = 1.687 --- Acc = 42.19 --- Val Loss = 1.796 --- Val Acc = 47.22\n",
      "Iter 73 --- Loss = 1.762 --- Acc = 40.82 --- Val Loss = 1.809 --- Val Acc = 46.30\n",
      "Iter 74 --- Loss = 1.794 --- Acc = 39.65 --- Val Loss = 1.789 --- Val Acc = 47.22\n",
      "Iter 75 --- Loss = 1.734 --- Acc = 44.53 --- Val Loss = 1.780 --- Val Acc = 47.69\n",
      "Iter 76 --- Loss = 1.687 --- Acc = 46.48 --- Val Loss = 1.784 --- Val Acc = 47.22\n",
      "Iter 77 --- Loss = 1.761 --- Acc = 41.80 --- Val Loss = 1.806 --- Val Acc = 46.30\n",
      "Iter 78 --- Loss = 1.727 --- Acc = 44.73 --- Val Loss = 1.813 --- Val Acc = 46.30\n",
      "Iter 79 --- Loss = 1.743 --- Acc = 41.60 --- Val Loss = 1.790 --- Val Acc = 46.76\n",
      "Iter 80 --- Loss = 1.770 --- Acc = 43.55 --- Val Loss = 1.782 --- Val Acc = 46.76\n",
      "Iter 81 --- Loss = 1.646 --- Acc = 46.09 --- Val Loss = 1.797 --- Val Acc = 46.30\n",
      "Iter 82 --- Loss = 1.707 --- Acc = 43.16 --- Val Loss = 1.784 --- Val Acc = 47.69\n",
      "Iter 83 --- Loss = 1.681 --- Acc = 46.09 --- Val Loss = 1.788 --- Val Acc = 47.22\n",
      "Iter 84 --- Loss = 1.695 --- Acc = 41.99 --- Val Loss = 1.809 --- Val Acc = 46.30\n",
      "Iter 85 --- Loss = 1.706 --- Acc = 46.09 --- Val Loss = 1.817 --- Val Acc = 45.83\n",
      "Iter 86 --- Loss = 1.725 --- Acc = 42.58 --- Val Loss = 1.799 --- Val Acc = 47.22\n",
      "Iter 87 --- Loss = 1.635 --- Acc = 48.44 --- Val Loss = 1.777 --- Val Acc = 47.69\n",
      "Iter 88 --- Loss = 1.699 --- Acc = 43.55 --- Val Loss = 1.808 --- Val Acc = 45.37\n",
      "Iter 89 --- Loss = 1.696 --- Acc = 45.51 --- Val Loss = 1.816 --- Val Acc = 44.91\n",
      "Iter 90 --- Loss = 1.655 --- Acc = 45.12 --- Val Loss = 1.802 --- Val Acc = 48.61\n",
      "Iter 91 --- Loss = 1.600 --- Acc = 46.88 --- Val Loss = 1.806 --- Val Acc = 47.69\n",
      "Iter 92 --- Loss = 1.624 --- Acc = 46.48 --- Val Loss = 1.799 --- Val Acc = 48.15\n",
      "Iter 93 --- Loss = 1.620 --- Acc = 47.85 --- Val Loss = 1.792 --- Val Acc = 49.07\n",
      "Iter 94 --- Loss = 1.678 --- Acc = 45.70 --- Val Loss = 1.795 --- Val Acc = 49.07\n",
      "Iter 95 --- Loss = 1.681 --- Acc = 44.53 --- Val Loss = 1.804 --- Val Acc = 47.69\n",
      "Iter 96 --- Loss = 1.636 --- Acc = 45.12 --- Val Loss = 1.810 --- Val Acc = 45.83\n",
      "Iter 97 --- Loss = 1.654 --- Acc = 47.27 --- Val Loss = 1.823 --- Val Acc = 45.83\n",
      "Iter 98 --- Loss = 1.620 --- Acc = 49.61 --- Val Loss = 1.821 --- Val Acc = 45.37\n",
      "Iter 99 --- Loss = 1.565 --- Acc = 49.80 --- Val Loss = 1.807 --- Val Acc = 46.76\n"
     ]
    }
   ],
   "source": [
    "sess = tf.Session()\n",
    "if save_mode:\n",
    "    saver = tf.train.Saver()\n",
    "init = tf.global_variables_initializer()\n",
    "sess.run(init)\n",
    "\n",
    "tmp_loss, tmp_acc = None, None\n",
    "train_loss, train_acc, valid_loss, valid_acc = [], [], [], []\n",
    "for i in range(num_epochs):\n",
    "        x_bar_imag, y_bar = shuffle(picture_train, train_label_one_hot)\n",
    "        for batch in range(len(x_bar_imag) // batch_size):\n",
    "            batch_x = x_bar_imag[batch * batch_size:min((batch + 1) * batch_size, len(x_bar_imag))]\n",
    "            batch_y = y_bar[batch * batch_size:min((batch + 1) * batch_size, len(y_bar))]    \n",
    "            opt = sess.run(optimizer, feed_dict={pic_placehold:batch_x, out_placehold:batch_y})\n",
    "            tmp_loss, tmp_acc = sess.run([cost, accuracy], feed_dict={pic_placehold:batch_x, out_placehold:batch_y})\n",
    "        train_loss.append(tmp_loss)\n",
    "        train_acc.append(tmp_acc)\n",
    "        loss, acc = sess.run([cost, accuracy], feed_dict={pic_placehold:picture_test, out_placehold:test_label_one_hot})\n",
    "        valid_loss.append(loss)\n",
    "        valid_acc.append(acc)\n",
    "        print(('Iter {0:02d} --- Loss = {1:02.3f} --- Acc = {2:02.2f} --- Val Loss = {3:02.3f} --- Val Acc = {4:02.2f}').format(i, tmp_loss, tmp_acc * 100, valid_loss[i], valid_acc[i] * 100))\n",
    "\n",
    "if save_mode:\n",
    "    save_path = saver.save(sess, save_folder)"
   ]
  },
  {
   "cell_type": "code",
   "execution_count": 111,
   "metadata": {
    "colab": {
     "base_uri": "https://localhost:8080/",
     "height": 589
    },
    "colab_type": "code",
    "id": "ZA4F-Q9SiGt7",
    "outputId": "cea1e69d-00fc-4784-aa85-ecc1631dba14"
   },
   "outputs": [
    {
     "data": {
      "text/plain": [
       "Text(0, 0.5, 'Accuracy')"
      ]
     },
     "execution_count": 111,
     "metadata": {},
     "output_type": "execute_result"
    },
    {
     "data": {
      "image/png": "[encoded data removed]",
      "text/plain": [
       "<Figure size 432x288 with 1 Axes>"
      ]
     },
     "metadata": {
      "needs_background": "light"
     },
     "output_type": "display_data"
    },
    {
     "data": {
      "image/png": "[encoded data removed]",
      "text/plain": [
       "<Figure size 432x288 with 1 Axes>"
      ]
     },
     "metadata": {
      "needs_background": "light"
     },
     "output_type": "display_data"
    }
   ],
   "source": [
    "plt.figure()\n",
    "plt.plot(train_loss, color='b', label='Training')\n",
    "plt.plot(valid_loss, color='r', label='Validation')\n",
    "plt.legend()\n",
    "plt.title('Loss Curve')\n",
    "plt.xlabel('Number of epochs')\n",
    "plt.ylabel('Cross entropy')\n",
    "\n",
    "plt.figure()\n",
    "plt.plot(train_acc, color='b', label='Training')\n",
    "plt.plot(valid_acc, color='r', label='Validation')\n",
    "plt.legend()\n",
    "plt.title('Accuracy Curves')\n",
    "plt.xlabel('Number of epochs')\n",
    "plt.ylabel('Accuracy')"
   ]
  },
  {
   "cell_type": "code",
   "execution_count": 0,
   "metadata": {
    "colab": {},
    "colab_type": "code",
    "id": "ZzFpUEl7j3-B"
   },
   "outputs": [],
   "source": []
  }
 ],
 "metadata": {
  "accelerator": "GPU",
  "colab": {
   "collapsed_sections": [],
   "name": "Duckiebot.ipynb",
   "provenance": []
  },
  "kernelspec": {
   "display_name": "Python 3",
   "language": "python",
   "name": "python3"
  },
  "language_info": {
   "codemirror_mode": {
    "name": "ipython",
    "version": 3
   },
   "file_extension": ".py",
   "mimetype": "text/x-python",
   "name": "python",
   "nbconvert_exporter": "python",
   "pygments_lexer": "ipython3",
   "version": "3.6.7"
  }
 },
 "nbformat": 4,
 "nbformat_minor": 1
}
