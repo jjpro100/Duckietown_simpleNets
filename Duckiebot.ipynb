{
 "cells": [
  {
   "cell_type": "code",
   "execution_count": 154,
   "metadata": {
    "colab": {},
    "colab_type": "code",
    "id": "onsqaqfI9_Aw"
   },
   "outputs": [],
   "source": [
    "import tensorflow as tf\n",
    "import os\n",
    "import cv2\n",
    "import numpy as np\n",
    "import matplotlib.pyplot as plt\n",
    "from sklearn.utils import shuffle\n",
    "import time"
   ]
  },
  {
   "cell_type": "code",
   "execution_count": 155,
   "metadata": {
    "colab": {},
    "colab_type": "code",
    "id": "IfAQNlEE-FUC"
   },
   "outputs": [],
   "source": [
    "folder_path = './'\n",
    "subfolder_path = 'middle_and_ducks/'\n",
    "save_folder = 'graph/student'\n",
    "\n",
    "img_size = 101\n",
    "l2_alpha = 1e-2\n",
    "l2_regularizer = False\n",
    "save_mode = True\n",
    "\n",
    "num_epochs = 100\n",
    "batch_size = 64\n",
    "lr = 0.00005\n",
    "\n",
    "L2_LAMBDA = 0.01\n",
    "\n",
    "\n",
    "def _residual_block(x, size, dropout=False, dropout_prob=0.5, seed=None):\n",
    "    #residual = tf.layers.batch_normalization(x)  # TODO: check if the defaults in Tf are the same as in Keras\n",
    "    residual = x\n",
    "    residual = tf.nn.relu(residual)\n",
    "    residual = tf.layers.conv2d(residual, filters=size, kernel_size=3, strides=2, padding='same',\n",
    "                                kernel_initializer=tf.keras.initializers.he_normal(seed=seed),\n",
    "                                #kernel_regularizer=tf.keras.regularizers.l2(L2_LAMBDA)\n",
    "                               )\n",
    "    if dropout:\n",
    "        residual = tf.nn.dropout(residual, dropout_prob, seed=seed)\n",
    "    #residual = tf.layers.batch_normalization(residual)\n",
    "    residual = tf.nn.relu(residual)\n",
    "    residual = tf.layers.conv2d(residual, filters=size, kernel_size=3, padding='same',\n",
    "                                kernel_initializer=tf.keras.initializers.he_normal(seed=seed),\n",
    "                                #kernel_regularizer=tf.keras.regularizers.l2(L2_LAMBDA)\n",
    "                               )\n",
    "    if dropout:\n",
    "        residual = tf.nn.dropout(residual, dropout_prob, seed=seed)\n",
    "\n",
    "    return residual\n",
    "\n",
    "\n",
    "def one_residual(x, keep_prob=0.5, seed=None):\n",
    "    nn = tf.layers.conv2d(x, filters=32, kernel_size=5, strides=2, padding='same',\n",
    "                          kernel_initializer=tf.keras.initializers.he_normal(seed=seed),\n",
    "                          #kernel_regularizer=tf.keras.regularizers.l2(L2_LAMBDA)\n",
    "                         )\n",
    "    nn = tf.layers.max_pooling2d(nn, pool_size=3, strides=2)\n",
    "\n",
    "    rb_1 = _residual_block(nn, 32, dropout_prob=keep_prob, seed=seed)\n",
    "\n",
    "    nn = tf.layers.conv2d(nn, filters=32, kernel_size=1, strides=2, padding='same',\n",
    "                          kernel_initializer=tf.keras.initializers.he_normal(seed=seed),\n",
    "                          #kernel_regularizer=tf.keras.regularizers.l2(L2_LAMBDA)\n",
    "                         )\n",
    "    nn = tf.keras.layers.add([rb_1, nn])\n",
    "\n",
    "    nn = tf.reshape(nn, [-1, int(nn.shape[1]) * int(nn.shape[2]) * int(nn.shape[3])])\n",
    "    #tf.layers.flatten(nn)\n",
    "\n",
    "    return nn"
   ]
  },
  {
   "cell_type": "code",
   "execution_count": 156,
   "metadata": {
    "colab": {},
    "colab_type": "code",
    "id": "HZryPY2TaPVL"
   },
   "outputs": [],
   "source": [
    "train_image, train_label, test_image, test_label = [], [], [], []\n",
    "\n",
    "with open(folder_path + subfolder_path + 'train.txt', 'r') as f:\n",
    "    temp = [l.split(' ') for l in f.read().splitlines()]\n",
    "f.close()\n",
    "\n",
    "for l in temp:\n",
    "    img = cv2.imread(folder_path + l[0])\n",
    "    train_image.append(cv2.resize(img, (img_size, img_size), interpolation=cv2.INTER_CUBIC))\n",
    "    train_label.append(l[1])\n",
    "    \n",
    "with open(folder_path + 'duck_train/' + 'train.txt', 'r') as f:\n",
    "    temp = [l.split(' ') for l in f.read().splitlines()]\n",
    "f.close()\n",
    "\n",
    "for l in temp:\n",
    "    img = cv2.imread(folder_path + l[0])  \n",
    "    train_image.append(cv2.resize(img, (img_size, img_size), interpolation=cv2.INTER_CUBIC))\n",
    "    train_label.append(l[1])\n",
    "\n",
    "with open(folder_path + 'fast/' + 'train.txt', 'r') as f:\n",
    "    temp = [l.split(' ') for l in f.read().splitlines()]\n",
    "f.close()\n",
    "\n",
    "for l in temp:\n",
    "    img = cv2.imread(folder_path + l[0])  \n",
    "    train_image.append(cv2.resize(img, (img_size, img_size), interpolation=cv2.INTER_CUBIC))\n",
    "    train_label.append(l[1])\n",
    "    \n",
    "with open(folder_path + 'duck_train/' + 'train.txt', 'r') as f:\n",
    "    temp = [l.split(' ') for l in f.read().splitlines()]\n",
    "f.close()\n",
    "\n",
    "for l in temp:\n",
    "    img = cv2.imread(folder_path + l[0])  \n",
    "    train_image.append(cv2.resize(img, (img_size, img_size), interpolation=cv2.INTER_CUBIC))\n",
    "    train_label.append(l[1])\n",
    "    \n",
    "with open(folder_path + subfolder_path + 'test.txt', 'r') as f:\n",
    "    temp = [l.split(' ') for l in f.read().splitlines()]\n",
    "f.close()\n",
    "\n",
    "for l in temp:\n",
    "    img = cv2.imread(folder_path + l[0])\n",
    "    test_image.append(cv2.resize(img, (img_size, img_size), interpolation=cv2.INTER_CUBIC))\n",
    "    test_label.append(l[1])\n",
    "\n",
    "train_label = np.array(train_label).astype(np.int)\n",
    "test_label = np.array(test_label).astype(np.int)\n",
    "\n",
    "picture_train = (np.array(train_image).astype(np.float32) - 127.5) / 127.5\n",
    "picture_test = (np.array(test_image).astype(np.float32) - 127.5) / 127.5\n",
    "\n",
    "train_label_one_hot = np.zeros((len(train_label), 15)).astype(np.int32)\n",
    "test_label_one_hot = np.zeros((len(test_label), 15)).astype(np.int32)\n",
    "for i in range(len(train_label)):\n",
    "    train_label_one_hot[i, train_label[i]] = 1\n",
    "for i in range(len(test_label)):\n",
    "    test_label_one_hot[i, test_label[i]] = 1"
   ]
  },
  {
   "cell_type": "code",
   "execution_count": 157,
   "metadata": {},
   "outputs": [
    {
     "data": {
      "image/png": "[encoded data removed]",
      "text/plain": [
       "<Figure size 432x288 with 1 Axes>"
      ]
     },
     "metadata": {
      "needs_background": "light"
     },
     "output_type": "display_data"
    }
   ],
   "source": [
    "plt.hist(train_label, bins=15)\n",
    "plt.show()"
   ]
  },
  {
   "cell_type": "code",
   "execution_count": 158,
   "metadata": {},
   "outputs": [],
   "source": [
    "# #img = tf.Variable(train_image[:2]) # img shape is [580,580,3]\n",
    "# img = tf.placeholder(dtype=tf.float32,shape=[None, img_size, img_size, 3], name='input')\n",
    "# #b = tf.image.crop_and_resize(img,[[0.5,0.1,0.9,0.5]],[0],[50,50])\n",
    "# c = tf.image.crop_to_bounding_box(\n",
    "#     image = img,\n",
    "#     offset_height = 40,\n",
    "#     offset_width = 0,\n",
    "#     target_height = 61,\n",
    "#     target_width = 101\n",
    "# )\n",
    "# sess = tf.Session()\n",
    "# sess.run(tf.global_variables_initializer())\n",
    "# #a = c.eval(session=sess)\n",
    "# a = sess.run(c, feed_dict={img: train_image})\n",
    "# plt.imshow(a[1].astype(int))\n",
    "# #plt.imshow(a[1])\n",
    "# print(a.shape)"
   ]
  },
  {
   "cell_type": "code",
   "execution_count": 159,
   "metadata": {
    "colab": {},
    "colab_type": "code",
    "id": "CUCgf8NQEctf"
   },
   "outputs": [],
   "source": [
    "tf.reset_default_graph()\n",
    "pic_placehold = tf.placeholder(dtype=tf.float32,shape=[None, img_size, img_size, 3], name='input')\n",
    "out_placehold = tf.placeholder(tf.int32, [None, 15])\n",
    "x = pic_placehold\n",
    "# x = tf.image.crop_to_bounding_box(\n",
    "#     image = pic_placehold,\n",
    "#     offset_height = 40,\n",
    "#     offset_width = 0,\n",
    "#     target_height = 61,\n",
    "#     target_width = 101\n",
    "# )\n",
    "\n",
    "# x = one_residual(x, seed=1234)\n",
    "# x = tf.layers.dense(x, units=64, activation=tf.nn.relu,\n",
    "#                                 kernel_initializer=tf.contrib.layers.xavier_initializer(uniform=False, seed=1234),\n",
    "#                                 bias_initializer=tf.contrib.layers.xavier_initializer(uniform=False, seed=1234))\n",
    "# x = tf.layers.dense(x, units=32, activation=tf.nn.relu,\n",
    "#                                 kernel_initializer=tf.contrib.layers.xavier_initializer(uniform=False, seed=1234),\n",
    "#                                 bias_initializer=tf.contrib.layers.xavier_initializer(uniform=False, seed=1234))\n",
    "\n",
    "# x = tf.layers.dense(x, units = 15)\n",
    "\n",
    "\n",
    "\n",
    "# x = tf.layers.conv2d(pic_placehold, 64, 3, strides=3, padding='valid')\n",
    "# x = tf.nn.relu(x)\n",
    "# x = tf.layers.batch_normalization(x)\n",
    "x = tf.layers.conv2d(x, 64, 3, strides=3, padding='valid')\n",
    "x = tf.nn.relu(x)\n",
    "x = tf.nn.max_pool(x, ksize=[1, 4, 4, 1], strides=[1, 4, 4, 1], padding='VALID')\n",
    "# x = tf.layers.batch_normalization(x)\n",
    "x = tf.reshape(x, [-1, int(x.shape[1]) * int(x.shape[2]) * int(x.shape[3])])\n",
    "x = tf.layers.dense(x, units = 32, trainable=True, use_bias=True)\n",
    "x = tf.nn.relu(x)\n",
    "x = tf.layers.dense(x, units = 15, trainable=True, use_bias=True)\n",
    "pred = x\n",
    "output1 = tf.nn.softmax(x, name='output')\n",
    "output = tf.math.argmax(output1, axis=1)"
   ]
  },
  {
   "cell_type": "code",
   "execution_count": 160,
   "metadata": {},
   "outputs": [
    {
     "name": "stdout",
     "output_type": "stream",
     "text": [
      "[ 0  1  2  3  4  5  6  7  8  9 10 11 12 13 14]\n",
      "[ 63  11  13  23  59  73 119 970 359 292 247 176 116  73 263]\n"
     ]
    }
   ],
   "source": [
    "values, counts = np.unique(train_label, return_counts = True)\n",
    "\n",
    "# values = np.insert(values, 1, 1)\n",
    "# counts = np.insert(counts, 1, 0)\n",
    "\n",
    "print(values)\n",
    "print(counts)"
   ]
  },
  {
   "cell_type": "code",
   "execution_count": 161,
   "metadata": {
    "colab": {},
    "colab_type": "code",
    "id": "lhobCLHwiPl6"
   },
   "outputs": [],
   "source": [
    "cross_entropy = tf.nn.softmax_cross_entropy_with_logits(logits=pred, labels=out_placehold)\n",
    "# ratio = counts*(1/np.sum(counts))\n",
    "\n",
    "# class_weight = ratio\n",
    "\n",
    "# weight_per_label = tf.transpose(tf.matmul(tf.dtypes.cast(out_placehold, tf.float32), tf.expand_dims(tf.dtypes.cast(tf.transpose(class_weight), tf.float32), 1)))\n",
    "# print(weight_per_label.shape)\n",
    "\n",
    "# xent = tf.multiply(weight_per_label, tf.nn.softmax_cross_entropy_with_logits(logits=pred, labels=out_placehold)) \n",
    "# cross_entropy = tf.reduce_mean(xent) #shape 1\n",
    "\n",
    "#cross_entropy = tf.nn.softmax_cross_entropy_with_logits(logits=pred, labels=out_placehold)\n",
    "# cross_entropy = tf.contrib.losses.softmax_cross_entropy(logits=pred, out_placehold, weight=weight)\n",
    "var = tf.trainable_variables()\n",
    "if l2_regularizer:\n",
    "     lossL2 = tf.add_n([tf.nn.l2_loss(v) for v in var if 'kernel' in v.name]) * l2_alpha\n",
    "     cost = lossL2 + tf.reduce_mean(cross_entropy)\n",
    "cost = tf.reduce_mean(cross_entropy)\n",
    "prediction = tf.argmax(pred, 1)\n",
    "cost = tf.reduce_mean(tf.nn.softmax_cross_entropy_with_logits(logits=pred, labels=out_placehold))\n",
    "optimizer = tf.train.AdamOptimizer(learning_rate=lr).minimize(cost)\n",
    "correct_prediction = tf.equal(tf.argmax(pred, 1), tf.argmax(out_placehold, 1))\n",
    "accuracy = tf.reduce_mean(tf.cast(correct_prediction, tf.float32))"
   ]
  },
  {
   "cell_type": "code",
   "execution_count": 162,
   "metadata": {
    "colab": {
     "base_uri": "https://localhost:8080/",
     "height": 1000
    },
    "colab_type": "code",
    "id": "yPE7ftaT9xnH",
    "outputId": "0a399189-5043-4f29-b686-bc0bcf69aeae",
    "scrolled": true
   },
   "outputs": [
    {
     "name": "stdout",
     "output_type": "stream",
     "text": [
      "Iter 00 --- Loss = 2.402 --- Acc = 34.3750 --- Val Loss = 1.916 --- Val Acc = 64.8148\n",
      "Iter 01 --- Loss = 2.303 --- Acc = 37.5000 --- Val Loss = 1.877 --- Val Acc = 64.8148\n",
      "Iter 02 --- Loss = 2.345 --- Acc = 29.6875 --- Val Loss = 1.820 --- Val Acc = 64.8148\n",
      "Iter 03 --- Loss = 2.123 --- Acc = 37.5000 --- Val Loss = 1.804 --- Val Acc = 64.8148\n",
      "Iter 04 --- Loss = 2.368 --- Acc = 23.4375 --- Val Loss = 1.801 --- Val Acc = 63.4259\n",
      "Iter 05 --- Loss = 2.052 --- Acc = 39.0625 --- Val Loss = 1.757 --- Val Acc = 63.4259\n",
      "Iter 06 --- Loss = 2.109 --- Acc = 37.5000 --- Val Loss = 1.761 --- Val Acc = 62.0370\n",
      "Iter 07 --- Loss = 2.218 --- Acc = 25.0000 --- Val Loss = 1.745 --- Val Acc = 61.5741\n",
      "Iter 08 --- Loss = 2.005 --- Acc = 35.9375 --- Val Loss = 1.780 --- Val Acc = 58.7963\n",
      "Iter 09 --- Loss = 2.136 --- Acc = 32.8125 --- Val Loss = 1.724 --- Val Acc = 60.6481\n",
      "Iter 10 --- Loss = 2.020 --- Acc = 39.0625 --- Val Loss = 1.716 --- Val Acc = 60.1852\n",
      "Iter 11 --- Loss = 2.126 --- Acc = 32.8125 --- Val Loss = 1.715 --- Val Acc = 60.6481\n",
      "Iter 12 --- Loss = 1.958 --- Acc = 35.9375 --- Val Loss = 1.728 --- Val Acc = 59.2593\n",
      "Iter 13 --- Loss = 1.793 --- Acc = 51.5625 --- Val Loss = 1.731 --- Val Acc = 59.2593\n",
      "Iter 14 --- Loss = 1.936 --- Acc = 39.0625 --- Val Loss = 1.729 --- Val Acc = 59.7222\n",
      "Iter 15 --- Loss = 2.038 --- Acc = 31.2500 --- Val Loss = 1.715 --- Val Acc = 58.7963\n",
      "Iter 16 --- Loss = 2.021 --- Acc = 28.1250 --- Val Loss = 1.706 --- Val Acc = 59.7222\n",
      "Iter 17 --- Loss = 1.991 --- Acc = 37.5000 --- Val Loss = 1.799 --- Val Acc = 51.8519\n",
      "Iter 18 --- Loss = 2.002 --- Acc = 31.2500 --- Val Loss = 1.723 --- Val Acc = 59.7222\n",
      "Iter 19 --- Loss = 2.151 --- Acc = 32.8125 --- Val Loss = 1.741 --- Val Acc = 59.2593\n",
      "Iter 20 --- Loss = 1.972 --- Acc = 37.5000 --- Val Loss = 1.710 --- Val Acc = 59.7222\n",
      "Iter 21 --- Loss = 2.260 --- Acc = 23.4375 --- Val Loss = 1.670 --- Val Acc = 59.2593\n",
      "Iter 22 --- Loss = 1.831 --- Acc = 45.3125 --- Val Loss = 1.698 --- Val Acc = 59.2593\n",
      "Iter 23 --- Loss = 1.879 --- Acc = 35.9375 --- Val Loss = 1.759 --- Val Acc = 51.3889\n",
      "Iter 24 --- Loss = 1.975 --- Acc = 31.2500 --- Val Loss = 1.696 --- Val Acc = 58.3333\n",
      "Iter 25 --- Loss = 2.026 --- Acc = 31.2500 --- Val Loss = 1.715 --- Val Acc = 56.9444\n",
      "Iter 26 --- Loss = 2.142 --- Acc = 21.8750 --- Val Loss = 1.744 --- Val Acc = 55.5556\n",
      "Iter 27 --- Loss = 1.823 --- Acc = 42.1875 --- Val Loss = 1.682 --- Val Acc = 58.3333\n",
      "Iter 28 --- Loss = 1.869 --- Acc = 35.9375 --- Val Loss = 1.681 --- Val Acc = 58.3333\n",
      "Iter 29 --- Loss = 2.009 --- Acc = 29.6875 --- Val Loss = 1.730 --- Val Acc = 54.6296\n",
      "Iter 30 --- Loss = 1.882 --- Acc = 37.5000 --- Val Loss = 1.748 --- Val Acc = 51.3889\n",
      "Iter 31 --- Loss = 1.861 --- Acc = 42.1875 --- Val Loss = 1.700 --- Val Acc = 56.4815\n",
      "Iter 32 --- Loss = 2.108 --- Acc = 20.3125 --- Val Loss = 1.657 --- Val Acc = 57.4074\n",
      "Iter 33 --- Loss = 1.840 --- Acc = 35.9375 --- Val Loss = 1.702 --- Val Acc = 55.0926\n",
      "Iter 34 --- Loss = 1.944 --- Acc = 42.1875 --- Val Loss = 1.713 --- Val Acc = 54.1667\n",
      "Iter 35 --- Loss = 1.977 --- Acc = 34.3750 --- Val Loss = 1.742 --- Val Acc = 50.4630\n",
      "Iter 36 --- Loss = 2.087 --- Acc = 34.3750 --- Val Loss = 1.707 --- Val Acc = 52.7778\n",
      "Iter 37 --- Loss = 1.827 --- Acc = 40.6250 --- Val Loss = 1.690 --- Val Acc = 51.8519\n",
      "Iter 38 --- Loss = 1.808 --- Acc = 46.8750 --- Val Loss = 1.722 --- Val Acc = 54.1667\n",
      "Iter 39 --- Loss = 1.881 --- Acc = 35.9375 --- Val Loss = 1.677 --- Val Acc = 54.1667\n",
      "Iter 40 --- Loss = 1.959 --- Acc = 35.9375 --- Val Loss = 1.690 --- Val Acc = 53.7037\n",
      "Iter 41 --- Loss = 1.871 --- Acc = 37.5000 --- Val Loss = 1.708 --- Val Acc = 49.5370\n",
      "Iter 42 --- Loss = 1.724 --- Acc = 40.6250 --- Val Loss = 1.670 --- Val Acc = 54.1667\n",
      "Iter 43 --- Loss = 1.855 --- Acc = 40.6250 --- Val Loss = 1.723 --- Val Acc = 51.3889\n",
      "Iter 44 --- Loss = 1.930 --- Acc = 32.8125 --- Val Loss = 1.744 --- Val Acc = 49.5370\n",
      "Iter 45 --- Loss = 1.722 --- Acc = 43.7500 --- Val Loss = 1.720 --- Val Acc = 52.3148\n",
      "Iter 46 --- Loss = 1.912 --- Acc = 31.2500 --- Val Loss = 1.722 --- Val Acc = 49.0741\n",
      "Iter 47 --- Loss = 1.943 --- Acc = 34.3750 --- Val Loss = 1.685 --- Val Acc = 51.8519\n",
      "Iter 48 --- Loss = 1.902 --- Acc = 32.8125 --- Val Loss = 1.653 --- Val Acc = 54.1667\n",
      "Iter 49 --- Loss = 1.730 --- Acc = 35.9375 --- Val Loss = 1.741 --- Val Acc = 50.9259\n",
      "Iter 50 --- Loss = 1.932 --- Acc = 31.2500 --- Val Loss = 1.640 --- Val Acc = 56.4815\n",
      "Iter 51 --- Loss = 1.793 --- Acc = 35.9375 --- Val Loss = 1.777 --- Val Acc = 47.2222\n",
      "Iter 52 --- Loss = 1.665 --- Acc = 39.0625 --- Val Loss = 1.694 --- Val Acc = 51.3889\n",
      "Iter 53 --- Loss = 1.726 --- Acc = 39.0625 --- Val Loss = 1.788 --- Val Acc = 45.3704\n",
      "Iter 54 --- Loss = 1.883 --- Acc = 32.8125 --- Val Loss = 1.716 --- Val Acc = 47.6852\n",
      "Iter 55 --- Loss = 1.885 --- Acc = 42.1875 --- Val Loss = 1.757 --- Val Acc = 46.2963\n",
      "Iter 56 --- Loss = 1.850 --- Acc = 34.3750 --- Val Loss = 1.760 --- Val Acc = 47.2222\n",
      "Iter 57 --- Loss = 1.693 --- Acc = 39.0625 --- Val Loss = 1.749 --- Val Acc = 47.6852\n",
      "Iter 58 --- Loss = 1.683 --- Acc = 48.4375 --- Val Loss = 1.722 --- Val Acc = 49.0741\n",
      "Iter 59 --- Loss = 1.731 --- Acc = 40.6250 --- Val Loss = 1.725 --- Val Acc = 46.2963\n",
      "Iter 60 --- Loss = 1.750 --- Acc = 35.9375 --- Val Loss = 1.732 --- Val Acc = 47.6852\n",
      "Iter 61 --- Loss = 1.924 --- Acc = 31.2500 --- Val Loss = 1.641 --- Val Acc = 54.1667\n",
      "Iter 62 --- Loss = 1.918 --- Acc = 32.8125 --- Val Loss = 1.694 --- Val Acc = 48.6111\n",
      "Iter 63 --- Loss = 1.861 --- Acc = 40.6250 --- Val Loss = 1.729 --- Val Acc = 48.1481\n",
      "Iter 64 --- Loss = 1.910 --- Acc = 35.9375 --- Val Loss = 1.670 --- Val Acc = 52.3148\n",
      "Iter 65 --- Loss = 1.768 --- Acc = 37.5000 --- Val Loss = 1.770 --- Val Acc = 46.2963\n",
      "Iter 66 --- Loss = 1.579 --- Acc = 50.0000 --- Val Loss = 1.712 --- Val Acc = 47.2222\n",
      "Iter 67 --- Loss = 1.830 --- Acc = 45.3125 --- Val Loss = 1.790 --- Val Acc = 44.4444\n",
      "Iter 68 --- Loss = 1.833 --- Acc = 39.0625 --- Val Loss = 1.768 --- Val Acc = 45.3704\n",
      "Iter 69 --- Loss = 1.733 --- Acc = 40.6250 --- Val Loss = 1.705 --- Val Acc = 47.6852\n",
      "Iter 70 --- Loss = 1.811 --- Acc = 39.0625 --- Val Loss = 1.716 --- Val Acc = 47.2222\n",
      "Iter 71 --- Loss = 1.796 --- Acc = 42.1875 --- Val Loss = 1.712 --- Val Acc = 48.1481\n",
      "Iter 72 --- Loss = 1.515 --- Acc = 53.1250 --- Val Loss = 1.725 --- Val Acc = 46.2963\n",
      "Iter 73 --- Loss = 1.784 --- Acc = 40.6250 --- Val Loss = 1.710 --- Val Acc = 46.7593\n",
      "Iter 74 --- Loss = 1.830 --- Acc = 43.7500 --- Val Loss = 1.746 --- Val Acc = 44.9074\n",
      "Iter 75 --- Loss = 1.814 --- Acc = 45.3125 --- Val Loss = 1.798 --- Val Acc = 43.5185\n",
      "Iter 76 --- Loss = 1.691 --- Acc = 40.6250 --- Val Loss = 1.709 --- Val Acc = 45.8333\n",
      "Iter 77 --- Loss = 1.685 --- Acc = 35.9375 --- Val Loss = 1.823 --- Val Acc = 43.0556\n",
      "Iter 78 --- Loss = 1.673 --- Acc = 45.3125 --- Val Loss = 1.734 --- Val Acc = 46.2963\n",
      "Iter 79 --- Loss = 1.584 --- Acc = 51.5625 --- Val Loss = 1.745 --- Val Acc = 44.9074\n",
      "Iter 80 --- Loss = 1.525 --- Acc = 54.6875 --- Val Loss = 1.836 --- Val Acc = 41.2037\n",
      "Iter 81 --- Loss = 1.764 --- Acc = 37.5000 --- Val Loss = 1.714 --- Val Acc = 46.7593\n",
      "Iter 82 --- Loss = 1.599 --- Acc = 46.8750 --- Val Loss = 1.759 --- Val Acc = 43.5185\n",
      "Iter 83 --- Loss = 2.043 --- Acc = 29.6875 --- Val Loss = 1.797 --- Val Acc = 41.6667\n",
      "Iter 84 --- Loss = 1.619 --- Acc = 37.5000 --- Val Loss = 1.818 --- Val Acc = 42.5926\n",
      "Iter 85 --- Loss = 1.584 --- Acc = 48.4375 --- Val Loss = 1.850 --- Val Acc = 40.7407\n",
      "Iter 86 --- Loss = 1.651 --- Acc = 43.7500 --- Val Loss = 1.734 --- Val Acc = 46.2963\n",
      "Iter 87 --- Loss = 1.657 --- Acc = 45.3125 --- Val Loss = 1.778 --- Val Acc = 43.5185\n",
      "Iter 88 --- Loss = 1.519 --- Acc = 46.8750 --- Val Loss = 1.797 --- Val Acc = 43.0556\n",
      "Iter 89 --- Loss = 1.701 --- Acc = 48.4375 --- Val Loss = 1.803 --- Val Acc = 44.9074\n",
      "Iter 90 --- Loss = 1.827 --- Acc = 42.1875 --- Val Loss = 1.754 --- Val Acc = 44.9074\n",
      "Iter 91 --- Loss = 1.501 --- Acc = 46.8750 --- Val Loss = 1.790 --- Val Acc = 43.5185\n",
      "Iter 92 --- Loss = 1.950 --- Acc = 29.6875 --- Val Loss = 1.696 --- Val Acc = 47.2222\n",
      "Iter 93 --- Loss = 1.614 --- Acc = 51.5625 --- Val Loss = 1.804 --- Val Acc = 42.5926\n",
      "Iter 94 --- Loss = 1.449 --- Acc = 59.3750 --- Val Loss = 1.839 --- Val Acc = 42.5926\n",
      "Iter 95 --- Loss = 1.459 --- Acc = 59.3750 --- Val Loss = 1.798 --- Val Acc = 42.1296\n"
     ]
    },
    {
     "name": "stdout",
     "output_type": "stream",
     "text": [
      "Iter 96 --- Loss = 1.607 --- Acc = 39.0625 --- Val Loss = 1.757 --- Val Acc = 44.9074\n",
      "Iter 97 --- Loss = 1.790 --- Acc = 32.8125 --- Val Loss = 1.791 --- Val Acc = 45.3704\n",
      "Iter 98 --- Loss = 1.665 --- Acc = 46.8750 --- Val Loss = 1.781 --- Val Acc = 45.3704\n",
      "Iter 99 --- Loss = 1.533 --- Acc = 46.8750 --- Val Loss = 1.840 --- Val Acc = 40.7407\n"
     ]
    }
   ],
   "source": [
    "sess = tf.Session()\n",
    "if save_mode:\n",
    "    saver = tf.train.Saver()\n",
    "init = tf.global_variables_initializer()\n",
    "sess.run(init)\n",
    "\n",
    "tmp_loss, tmp_acc = None, None\n",
    "train_loss, train_acc, valid_loss, valid_acc = [], [], [], []\n",
    "for i in range(num_epochs):\n",
    "    x_bar_imag, y_bar = shuffle(picture_train, train_label_one_hot)\n",
    "    for batch in range(len(x_bar_imag) // batch_size):\n",
    "        batch_x = x_bar_imag[batch * batch_size:min((batch + 1) * batch_size, len(x_bar_imag))]\n",
    "        batch_y = y_bar[batch * batch_size:min((batch + 1) * batch_size, len(y_bar))]    \n",
    "        opt = sess.run(optimizer, feed_dict={pic_placehold:batch_x, out_placehold:batch_y})\n",
    "        tmp_loss, tmp_acc = sess.run([cost, accuracy], feed_dict={pic_placehold:batch_x, out_placehold:batch_y})\n",
    "    train_loss.append(tmp_loss)\n",
    "    train_acc.append(tmp_acc)\n",
    "    loss, acc = sess.run([cost, accuracy], feed_dict={pic_placehold:picture_test, out_placehold:test_label_one_hot})\n",
    "    valid_loss.append(loss)\n",
    "    valid_acc.append(acc)\n",
    "    print(('Iter {0:02d} --- Loss = {1:02.3f} --- Acc = {2:02.4f} --- Val Loss = {3:02.3f} --- Val Acc = {4:02.4f}').format(i, tmp_loss, tmp_acc * 100, valid_loss[i], valid_acc[i] * 100))\n",
    "\n",
    "if save_mode:\n",
    "    save_path = saver.save(sess, save_folder)"
   ]
  },
  {
   "cell_type": "code",
   "execution_count": 135,
   "metadata": {
    "colab": {
     "base_uri": "https://localhost:8080/",
     "height": 589
    },
    "colab_type": "code",
    "id": "ZA4F-Q9SiGt7",
    "outputId": "cea1e69d-00fc-4784-aa85-ecc1631dba14"
   },
   "outputs": [
    {
     "data": {
      "text/plain": [
       "Text(0, 0.5, 'Accuracy')"
      ]
     },
     "execution_count": 135,
     "metadata": {},
     "output_type": "execute_result"
    },
    {
     "data": {
      "image/png": "[encoded data removed]",
      "text/plain": [
       "<Figure size 432x288 with 1 Axes>"
      ]
     },
     "metadata": {
      "needs_background": "light"
     },
     "output_type": "display_data"
    },
    {
     "data": {
      "image/png": "[encoded data removed]",
      "text/plain": [
       "<Figure size 432x288 with 1 Axes>"
      ]
     },
     "metadata": {
      "needs_background": "light"
     },
     "output_type": "display_data"
    }
   ],
   "source": [
    "plt.figure()\n",
    "plt.plot(train_loss, color='b', label='Training')\n",
    "plt.plot(valid_loss, color='r', label='Validation')\n",
    "plt.legend()\n",
    "plt.title('Loss Curve')\n",
    "plt.xlabel('Number of epochs')\n",
    "plt.ylabel('Cross entropy')\n",
    "\n",
    "plt.figure()\n",
    "plt.plot(train_acc, color='b', label='Training')\n",
    "plt.plot(valid_acc, color='r', label='Validation')\n",
    "plt.legend()\n",
    "plt.title('Accuracy Curves')\n",
    "plt.xlabel('Number of epochs')\n",
    "plt.ylabel('Accuracy')"
   ]
  },
  {
   "cell_type": "code",
   "execution_count": 0,
   "metadata": {
    "colab": {},
    "colab_type": "code",
    "id": "ZzFpUEl7j3-B"
   },
   "outputs": [],
   "source": []
  }
 ],
 "metadata": {
  "accelerator": "GPU",
  "colab": {
   "collapsed_sections": [],
   "name": "Duckiebot.ipynb",
   "provenance": []
  },
  "kernelspec": {
   "display_name": "Python 3",
   "language": "python",
   "name": "python3"
  },
  "language_info": {
   "codemirror_mode": {
    "name": "ipython",
    "version": 3
   },
   "file_extension": ".py",
   "mimetype": "text/x-python",
   "name": "python",
   "nbconvert_exporter": "python",
   "pygments_lexer": "ipython3",
   "version": "3.6.7"
  }
 },
 "nbformat": 4,
 "nbformat_minor": 1
}
